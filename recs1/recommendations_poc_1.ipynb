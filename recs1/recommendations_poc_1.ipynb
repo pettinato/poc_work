{
 "cells": [
  {
   "cell_type": "markdown",
   "metadata": {},
   "source": [
    "# Investigation into Suprise module for building recommendations\n",
    "\n",
    "Using Blog post http://blog.fastforwardlabs.com/2018/01/22/exploring-recommendation-systems.html\n",
    "\n",
    "and surprise module https://github.com/NicolasHug/Surprise\n",
    "\n",
    "with documentation https://surprise.readthedocs.io/en/stable/index.html"
   ]
  },
  {
   "cell_type": "code",
   "execution_count": 1,
   "metadata": {
    "collapsed": false
   },
   "outputs": [
    {
     "name": "stdout",
     "output_type": "stream",
     "text": [
      "env: OMP_NUM_THREADS=2\n"
     ]
    }
   ],
   "source": [
    "import numpy as np\n",
    "import pandas as pd\n",
    "import re\n",
    "import os\n",
    "from pandas.plotting import scatter_matrix\n",
    "\n",
    "get_ipython().magic(u'env OMP_NUM_THREADS=2')\n",
    "\n",
    "from IPython.display import display, HTML\n",
    "\n",
    "%matplotlib inline\n",
    "import matplotlib.pyplot as plt\n",
    "\n",
    "import seaborn\n",
    "\n",
    "import surprise\n",
    "import sklearn\n",
    "import sklearn.model_selection\n",
    "\n",
    "#get_ipython().magic(u'matplotlib')\n",
    "#get_ipython().magic(u'matplotlib inline')\n",
    "\n",
    "# Set the ransom seed used for the whole program to allow reprocibility\n",
    "np.random.seed(3214412)\n",
    "\n",
    "DEBUG = True # If true, pull a sample of the dataset for development "
   ]
  },
  {
   "cell_type": "code",
   "execution_count": 2,
   "metadata": {
    "collapsed": false
   },
   "outputs": [
    {
     "data": {
      "text/html": [
       "<div>\n",
       "<style scoped>\n",
       "    .dataframe tbody tr th:only-of-type {\n",
       "        vertical-align: middle;\n",
       "    }\n",
       "\n",
       "    .dataframe tbody tr th {\n",
       "        vertical-align: top;\n",
       "    }\n",
       "\n",
       "    .dataframe thead th {\n",
       "        text-align: right;\n",
       "    }\n",
       "</style>\n",
       "<table border=\"1\" class=\"dataframe\">\n",
       "  <thead>\n",
       "    <tr style=\"text-align: right;\">\n",
       "      <th></th>\n",
       "      <th>userId</th>\n",
       "      <th>movieId</th>\n",
       "      <th>rating</th>\n",
       "      <th>timestamp</th>\n",
       "    </tr>\n",
       "  </thead>\n",
       "  <tbody>\n",
       "    <tr>\n",
       "      <th>0</th>\n",
       "      <td>1</td>\n",
       "      <td>110</td>\n",
       "      <td>1.0</td>\n",
       "      <td>1425941529</td>\n",
       "    </tr>\n",
       "    <tr>\n",
       "      <th>1</th>\n",
       "      <td>1</td>\n",
       "      <td>147</td>\n",
       "      <td>4.5</td>\n",
       "      <td>1425942435</td>\n",
       "    </tr>\n",
       "    <tr>\n",
       "      <th>2</th>\n",
       "      <td>1</td>\n",
       "      <td>858</td>\n",
       "      <td>5.0</td>\n",
       "      <td>1425941523</td>\n",
       "    </tr>\n",
       "    <tr>\n",
       "      <th>3</th>\n",
       "      <td>1</td>\n",
       "      <td>1221</td>\n",
       "      <td>5.0</td>\n",
       "      <td>1425941546</td>\n",
       "    </tr>\n",
       "    <tr>\n",
       "      <th>4</th>\n",
       "      <td>1</td>\n",
       "      <td>1246</td>\n",
       "      <td>5.0</td>\n",
       "      <td>1425941556</td>\n",
       "    </tr>\n",
       "  </tbody>\n",
       "</table>\n",
       "</div>"
      ],
      "text/plain": [
       "   userId  movieId  rating   timestamp\n",
       "0       1      110     1.0  1425941529\n",
       "1       1      147     4.5  1425942435\n",
       "2       1      858     5.0  1425941523\n",
       "3       1     1221     5.0  1425941546\n",
       "4       1     1246     5.0  1425941556"
      ]
     },
     "execution_count": 2,
     "metadata": {},
     "output_type": "execute_result"
    }
   ],
   "source": [
    "raw_df = pd.read_csv('ratings.csv')\n",
    "raw_df.head()"
   ]
  },
  {
   "cell_type": "code",
   "execution_count": 3,
   "metadata": {
    "collapsed": true
   },
   "outputs": [],
   "source": [
    "data_df = pd.DataFrame.copy(raw_df)\n",
    "if DEBUG:\n",
    "    data_df = data_df.sample(n=100000)\n",
    "else:\n",
    "    del raw_df  # Save on some memory"
   ]
  },
  {
   "cell_type": "code",
   "execution_count": 4,
   "metadata": {
    "collapsed": false
   },
   "outputs": [
    {
     "name": "stdout",
     "output_type": "stream",
     "text": [
      "Count of users: 58706\n",
      "Count of movies: 9487\n",
      "Count of ratings: 10\n",
      "Ratings: 0.5, 1.0, 1.5, 2.0, 2.5, 3.0, 3.5, 4.0, 4.5, 5.0\n"
     ]
    }
   ],
   "source": [
    "print(\"Count of users: {}\".format(data_df.userId.nunique()))\n",
    "print(\"Count of movies: {}\".format(data_df.movieId.nunique()))\n",
    "print(\"Count of ratings: {}\".format(data_df.rating.nunique()))\n",
    "print(\"Ratings: {}\".format(', '.join(map(str, data_df.rating.sort_values().unique()))))"
   ]
  },
  {
   "cell_type": "markdown",
   "metadata": {},
   "source": [
    "# Initial Recommendations\n",
    "If the user saw the movie, chalk it up as a 1 and recommend from these 1/0 values "
   ]
  },
  {
   "cell_type": "code",
   "execution_count": 5,
   "metadata": {
    "collapsed": false
   },
   "outputs": [
    {
     "data": {
      "text/html": [
       "<div>\n",
       "<style scoped>\n",
       "    .dataframe tbody tr th:only-of-type {\n",
       "        vertical-align: middle;\n",
       "    }\n",
       "\n",
       "    .dataframe tbody tr th {\n",
       "        vertical-align: top;\n",
       "    }\n",
       "\n",
       "    .dataframe thead th {\n",
       "        text-align: right;\n",
       "    }\n",
       "</style>\n",
       "<table border=\"1\" class=\"dataframe\">\n",
       "  <thead>\n",
       "    <tr style=\"text-align: right;\">\n",
       "      <th></th>\n",
       "      <th>userId</th>\n",
       "      <th>movieId</th>\n",
       "      <th>rating</th>\n",
       "    </tr>\n",
       "  </thead>\n",
       "  <tbody>\n",
       "    <tr>\n",
       "      <th>231381</th>\n",
       "      <td>2484</td>\n",
       "      <td>2001</td>\n",
       "      <td>3.0</td>\n",
       "    </tr>\n",
       "    <tr>\n",
       "      <th>3262121</th>\n",
       "      <td>33940</td>\n",
       "      <td>1409</td>\n",
       "      <td>2.5</td>\n",
       "    </tr>\n",
       "    <tr>\n",
       "      <th>15935743</th>\n",
       "      <td>165778</td>\n",
       "      <td>743</td>\n",
       "      <td>4.0</td>\n",
       "    </tr>\n",
       "    <tr>\n",
       "      <th>24673730</th>\n",
       "      <td>256471</td>\n",
       "      <td>1036</td>\n",
       "      <td>5.0</td>\n",
       "    </tr>\n",
       "    <tr>\n",
       "      <th>18393560</th>\n",
       "      <td>190907</td>\n",
       "      <td>2080</td>\n",
       "      <td>3.5</td>\n",
       "    </tr>\n",
       "  </tbody>\n",
       "</table>\n",
       "</div>"
      ],
      "text/plain": [
       "          userId  movieId  rating\n",
       "231381      2484     2001     3.0\n",
       "3262121    33940     1409     2.5\n",
       "15935743  165778      743     4.0\n",
       "24673730  256471     1036     5.0\n",
       "18393560  190907     2080     3.5"
      ]
     },
     "execution_count": 5,
     "metadata": {},
     "output_type": "execute_result"
    }
   ],
   "source": [
    "recs_df = pd.DataFrame.copy(data_df[['userId', 'movieId', 'rating']])\n",
    "recs_df.head()"
   ]
  },
  {
   "cell_type": "code",
   "execution_count": 6,
   "metadata": {
    "collapsed": false
   },
   "outputs": [],
   "source": [
    "reader = surprise.Reader(rating_scale=(1, 5))\n",
    "dataset_full = surprise.Dataset.load_from_df(recs_df, reader)"
   ]
  },
  {
   "cell_type": "code",
   "execution_count": 7,
   "metadata": {
    "collapsed": false
   },
   "outputs": [
    {
     "name": "stdout",
     "output_type": "stream",
     "text": [
      "Evaluating RMSE, MAE of algorithm SVD on 5 split(s).\n",
      "\n",
      "                  Fold 1  Fold 2  Fold 3  Fold 4  Fold 5  Mean    Std     \n",
      "RMSE (testset)    0.9852  0.9821  0.9943  0.9779  0.9694  0.9818  0.0082  \n",
      "MAE (testset)     0.7636  0.7643  0.7700  0.7574  0.7510  0.7613  0.0065  \n",
      "Fit time          5.72    5.73    6.28    6.21    6.55    6.10    0.33    \n",
      "Test time         0.23    0.27    0.24    0.19    0.19    0.23    0.03    \n"
     ]
    }
   ],
   "source": [
    "from surprise.accuracy import rmse\n",
    "from surprise.model_selection import cross_validate\n",
    "\n",
    "# algo = surprise.KNNBasic(min_k=3)  # Memory issues when using KNNBasic\n",
    "\n",
    "algo = surprise.SVD()\n",
    "algo_cv = cross_validate(algo, dataset_full, measures=['RMSE', 'MAE'], cv=5, verbose=True)"
   ]
  },
  {
   "cell_type": "markdown",
   "metadata": {},
   "source": [
    "# Ok, so what's the best number of factors for SVD?"
   ]
  },
  {
   "cell_type": "code",
   "execution_count": 8,
   "metadata": {
    "collapsed": false
   },
   "outputs": [
    {
     "name": "stdout",
     "output_type": "stream",
     "text": [
      "0.977030099437821\n",
      "{'n_factors': 10}\n"
     ]
    }
   ],
   "source": [
    "# https://surprise.readthedocs.io/en/stable/getting_started.html#tuning-algorithm-parameters\n",
    "from surprise.model_selection import GridSearchCV\n",
    "\n",
    "gs = GridSearchCV(surprise.SVD, param_grid=dict(n_factors=[10, 50, 100, 150, 200]))\n",
    "\n",
    "gs.fit(dataset_full)\n",
    "\n",
    "# best RMSE score\n",
    "print(gs.best_score['rmse'])\n",
    "\n",
    "# combination of parameters that gave the best RMSE score\n",
    "print(gs.best_params['rmse'])"
   ]
  },
  {
   "cell_type": "markdown",
   "metadata": {},
   "source": [
    "# Great, I built a recommender, now what?\n",
    "How do I actually use a constructed recommender?"
   ]
  },
  {
   "cell_type": "code",
   "execution_count": 20,
   "metadata": {
    "collapsed": false
   },
   "outputs": [
    {
     "name": "stdout",
     "output_type": "stream",
     "text": [
      "RMSE: 0.9844\n"
     ]
    },
    {
     "data": {
      "text/plain": [
       "[Prediction(uid=120796, iid=4920, r_ui=3.0, est=3.7257065761153885, details={'was_impossible': False}),\n",
       " Prediction(uid=208752, iid=3101, r_ui=4.0, est=3.5839663805202786, details={'was_impossible': False}),\n",
       " Prediction(uid=101544, iid=477, r_ui=2.0, est=3.6369113726094993, details={'was_impossible': False})]"
      ]
     },
     "execution_count": 20,
     "metadata": {},
     "output_type": "execute_result"
    }
   ],
   "source": [
    "from surprise import accuracy\n",
    "from surprise.model_selection import train_test_split\n",
    "\n",
    "trainset, testset = train_test_split(dataset_full, test_size=.25)\n",
    "\n",
    "algo.fit(trainset)\n",
    "predictions = algo.test(testset)\n",
    "\n",
    "# Then compute RMSE\n",
    "accuracy.rmse(predictions)\n",
    "\n",
    "predictions[:3]"
   ]
  },
  {
   "cell_type": "code",
   "execution_count": 21,
   "metadata": {
    "collapsed": false
   },
   "outputs": [
    {
     "name": "stdout",
     "output_type": "stream",
     "text": [
      "user: 2484.0     item: 2001.0     r_ui = None   est = 3.09   {'was_impossible': False}\n",
      "userId     2484.0\n",
      "movieId    2001.0\n",
      "rating        3.0\n",
      "Name: 231381, dtype: float64\n"
     ]
    }
   ],
   "source": [
    "# Predict a previously seen user/movie pair\n",
    "print(algo.predict(recs_df.iloc[0].userId, recs_df.iloc[0].movieId))\n",
    "print(recs_df.iloc[0])"
   ]
  },
  {
   "cell_type": "code",
   "execution_count": 22,
   "metadata": {
    "collapsed": false
   },
   "outputs": [
    {
     "name": "stdout",
     "output_type": "stream",
     "text": [
      "User 2484 has only rated a single movie\n",
      "         userId  movieId  rating\n",
      "231381    2484     2001     3.0\n",
      "Prediction for another movie\n",
      " user: 2484       item: 1409.0     r_ui = None   est = 3.37   {'was_impossible': False}\n"
     ]
    }
   ],
   "source": [
    "# Predict an unseen user/movie pair\n",
    "print(\"User 2484 has only rated a single movie\\n\", recs_df[recs_df.userId == 2484])\n",
    "\n",
    "npred = algo.predict(2484, recs_df[recs_df.movieId != 2001].iloc[0].movieId)\n",
    "\n",
    "print(\"Prediction for another movie\\n\", npred)"
   ]
  },
  {
   "cell_type": "code",
   "execution_count": 23,
   "metadata": {
    "collapsed": false
   },
   "outputs": [
    {
     "name": "stdout",
     "output_type": "stream",
     "text": [
      "4.08 ms ± 12.4 µs per loop (mean ± std. dev. of 7 runs, 100 loops each)\n"
     ]
    }
   ],
   "source": [
    "%%timeit\n",
    "mid = recs_df[recs_df.movieId != 2001].sample(n=1).iloc[0].movieId\n",
    "algo.predict(2484, mid)"
   ]
  },
  {
   "cell_type": "code",
   "execution_count": 24,
   "metadata": {
    "collapsed": false
   },
   "outputs": [
    {
     "name": "stdout",
     "output_type": "stream",
     "text": [
      "79.5 ms ± 527 µs per loop (mean ± std. dev. of 7 runs, 10 loops each)\n"
     ]
    }
   ],
   "source": [
    "%%timeit\n",
    "# Calculate the scores for all items for user 2484\n",
    "# Output the top 10\n",
    "# I can't find a way to do this in bulk.  I think the predict function is it, but it's fairly quick.\n",
    "ruid = recs_df.sample(n=1).iloc[0].userId  # Pull a random customerid for the predictions\n",
    "[pred.iid for pred in sorted([algo.predict(ruid, mid) for mid in recs_df.movieId.unique()], \n",
    "                             key=lambda x: x.est, reverse=True)[0:10]]"
   ]
  }
 ],
 "metadata": {
  "kernelspec": {
   "display_name": "recs1",
   "language": "python",
   "name": "recs1"
  },
  "language_info": {
   "codemirror_mode": {
    "name": "ipython",
    "version": 3
   },
   "file_extension": ".py",
   "mimetype": "text/x-python",
   "name": "python",
   "nbconvert_exporter": "python",
   "pygments_lexer": "ipython3",
   "version": "3.5.2"
  }
 },
 "nbformat": 4,
 "nbformat_minor": 2
}
