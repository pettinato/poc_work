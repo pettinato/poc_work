{
 "cells": [
  {
   "cell_type": "markdown",
   "metadata": {},
   "source": [
    "Tried a variety of methods.\n",
    "Gmail API directly looks nice, but it's a _huge_ pile of code and the authentication file would have to be stored somewhere.\n",
    "\n",
    "This works here.\n",
    "\n",
    "Requires\n",
    "* https://myaccount.google.com/security?gar=1 - Less Secure App Access to be turned on"
   ]
  },
  {
   "cell_type": "code",
   "execution_count": 48,
   "metadata": {},
   "outputs": [
    {
     "name": "stdout",
     "output_type": "stream",
     "text": [
      "Sent\n"
     ]
    }
   ],
   "source": [
    "# THIS WORKS HERE\n",
    "import smtplib\n",
    "\n",
    "content = (f'Subject: Hello World Subject\\n\\nBody of Email Hello World')\n",
    "\n",
    "mail = smtplib.SMTP('smtp.gmail.com', 587)\n",
    "gmail_address = 'xxx@gmail.com'  # Used as sender and receiver\n",
    "gmail_password = 'xxx'\n",
    "\n",
    "mail.ehlo()\n",
    "\n",
    "mail.starttls()\n",
    "\n",
    "mail.login(gmail_address, 'WORKS')\n",
    "\n",
    "mail.sendmail(gmail_address, gmail_address, content) \n",
    "\n",
    "mail.close()\n",
    "\n",
    "print(\"Sent\")"
   ]
  },
  {
   "cell_type": "code",
   "execution_count": 64,
   "metadata": {},
   "outputs": [],
   "source": [
    "# Try it with an attachment\n",
    "import smtplib\n",
    "import os\n",
    "from email.mime.multipart import MIMEMultipart \n",
    "from email.mime.text import MIMEText \n",
    "from email.mime.base import MIMEBase \n",
    "from email import encoders \n",
    "\n",
    "file_to_attach = os.path.expanduser('email_test.xlsx')\n",
    "\n",
    "content = (f'Subject: Attachment Test\\n\\nBody of Email Hello World')\n",
    "\n",
    "mail = smtplib.SMTP('smtp.gmail.com', 587)\n",
    "gmail_address = 'xxx@gmail.com'\n",
    "  \n",
    "# Create Message\n",
    "# instance of MIMEMultipart \n",
    "msg = MIMEMultipart() \n",
    "msg['From'] = gmail_address\n",
    "msg['To'] = gmail_address  \n",
    "msg['Subject'] = \"Attachment Test 1\"\n",
    "body = \"Some body test 1\"\n",
    "msg.attach(MIMEText(body, 'plain')) \n",
    "attachment = open(file_to_attach, \"rb\") \n",
    "attachment_mime = MIMEBase('application', 'octet-stream') \n",
    "attachment_mime.set_payload((attachment).read()) \n",
    "encoders.encode_base64(attachment_mime)\n",
    "attachment_mime.add_header('Content-Disposition', f\"attachment; filename= {os.path.basename(file_to_attach)}\") \n",
    "msg.attach(attachment_mime)\n",
    "\n",
    "# creates SMTP session \n",
    "session = smtplib.SMTP('smtp.gmail.com', 587) \n",
    "\n",
    "try:\n",
    "    # start TLS for security \n",
    "    session.starttls() \n",
    "\n",
    "    # Authentication\n",
    "    session.login(gmail_address, 'password_here')) \n",
    "\n",
    "    # Converts the Multipart msg into a string \n",
    "    text = msg.as_string() \n",
    "\n",
    "    # sending the mail\n",
    "    session.sendmail(gmail_address, gmail_address, text)\n",
    "finally:\n",
    "    session.quit()"
   ]
  },
  {
   "cell_type": "code",
   "execution_count": null,
   "metadata": {},
   "outputs": [],
   "source": []
  }
 ],
 "metadata": {
  "kernelspec": {
   "display_name": "adhoc_analysis",
   "language": "python",
   "name": "adhoc_analysis"
  },
  "language_info": {
   "codemirror_mode": {
    "name": "ipython",
    "version": 3
   },
   "file_extension": ".py",
   "mimetype": "text/x-python",
   "name": "python",
   "nbconvert_exporter": "python",
   "pygments_lexer": "ipython3",
   "version": "3.7.6"
  }
 },
 "nbformat": 4,
 "nbformat_minor": 4
}
