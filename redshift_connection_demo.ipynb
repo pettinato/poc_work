{
 "cells": [
  {
   "cell_type": "markdown",
   "metadata": {},
   "source": [
    "# Redshift Connection Demo"
   ]
  },
  {
   "cell_type": "markdown",
   "metadata": {},
   "source": [
    "Credentials file should look like\n",
    "```\n",
    "[redshift]\n",
    "db=deathstar\n",
    "host=redshift-LOTSOFSTUFFHERE.us-west-2.redshift.amazonaws.com\n",
    "port=1234\n",
    "username=vader\n",
    "password=theforce1234\n",
    "```"
   ]
  },
  {
   "cell_type": "code",
   "execution_count": null,
   "metadata": {},
   "outputs": [],
   "source": [
    "# This is a bit akward here as I didn't want to include my actual password\n",
    "# but basically the config file looks like this, and can be used by multiple notebooks.\n",
    "# WARNING: be careful to not commit or push it to github\n",
    "!cat /Users/stephenpettinato/rs_creds.cfg | grep -v 'password'\n",
    "!echo \"password=SOMEPASSWORDHERE\""
   ]
  },
  {
   "cell_type": "code",
   "execution_count": null,
   "metadata": {},
   "outputs": [],
   "source": [
    "import configparser\n",
    "from sqlalchemy import create_engine\n",
    "import pandas as pd"
   ]
  },
  {
   "cell_type": "code",
   "execution_count": null,
   "metadata": {},
   "outputs": [],
   "source": [
    "config = configparser.ConfigParser()\n",
    "config.read('/Users/stephenpettinato/rs_creds.cfg')"
   ]
  },
  {
   "cell_type": "code",
   "execution_count": null,
   "metadata": {},
   "outputs": [],
   "source": [
    "redshift_engine = create_engine(\n",
    "    'postgresql://' + \n",
    "    config['redshift']['username'] + ':' + \n",
    "    config['redshift']['password'] + '@' +\n",
    "    config['redshift']['host'] + ':' +\n",
    "    config['redshift']['port'] + '/' + \n",
    "    config['redshift']['db'])"
   ]
  },
  {
   "cell_type": "code",
   "execution_count": null,
   "metadata": {},
   "outputs": [],
   "source": [
    "pd.read_sql('SELECT top 10 * FROM schema.table', redshift_engine)"
   ]
  },
  {
   "cell_type": "code",
   "execution_count": null,
   "metadata": {},
   "outputs": [],
   "source": []
  }
 ],
 "metadata": {
  "kernelspec": {
   "display_name": "adhoc_analysis",
   "language": "python",
   "name": "adhoc_analysis"
  },
  "language_info": {
   "codemirror_mode": {
    "name": "ipython",
    "version": 3
   },
   "file_extension": ".py",
   "mimetype": "text/x-python",
   "name": "python",
   "nbconvert_exporter": "python",
   "pygments_lexer": "ipython3",
   "version": "3.7.6"
  }
 },
 "nbformat": 4,
 "nbformat_minor": 2
}
