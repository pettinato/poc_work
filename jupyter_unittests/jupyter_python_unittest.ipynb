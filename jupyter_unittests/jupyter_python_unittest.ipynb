{
 "cells": [
  {
   "cell_type": "markdown",
   "metadata": {},
   "source": [
    "# POC showing how to run unittests inside of a jupyter notebook"
   ]
  },
  {
   "cell_type": "markdown",
   "metadata": {},
   "source": [
    "## Setup some functions"
   ]
  },
  {
   "cell_type": "code",
   "execution_count": 1,
   "metadata": {},
   "outputs": [],
   "source": [
    "def foo(a, b=12):\n",
    "    return a * b"
   ]
  },
  {
   "cell_type": "code",
   "execution_count": 2,
   "metadata": {},
   "outputs": [],
   "source": [
    "def bar(c, d):\n",
    "    return c + d"
   ]
  },
  {
   "cell_type": "markdown",
   "metadata": {},
   "source": [
    "# Then do the unittests"
   ]
  },
  {
   "cell_type": "code",
   "execution_count": 3,
   "metadata": {},
   "outputs": [],
   "source": [
    "import unittest"
   ]
  },
  {
   "cell_type": "code",
   "execution_count": 4,
   "metadata": {},
   "outputs": [],
   "source": [
    "class TestFoo(unittest.TestCase):\n",
    "    def test_foo_1(self):\n",
    "        self.assertEqual(12, foo(1))\n",
    "    def test_foo_2_3(self):\n",
    "        self.assertEqual(6, foo(2, 3))"
   ]
  },
  {
   "cell_type": "code",
   "execution_count": 11,
   "metadata": {},
   "outputs": [],
   "source": [
    "class TestBar(unittest.TestCase):\n",
    "    def test_bar_1(self):\n",
    "        self.assertEqual(3, bar(1, 2))\n",
    "    def test_bar_2_3(self):\n",
    "        self.assertEqual('hello world', bar('hello', ' world'))"
   ]
  },
  {
   "cell_type": "code",
   "execution_count": 12,
   "metadata": {},
   "outputs": [
    {
     "name": "stderr",
     "output_type": "stream",
     "text": [
      "test_foo_1 (__main__.TestFoo) ... ok\n",
      "test_foo_2_3 (__main__.TestFoo) ... ok\n",
      "test_bar_1 (__main__.TestBar) ... ok\n",
      "test_bar_2_3 (__main__.TestBar) ... ok\n",
      "\n",
      "----------------------------------------------------------------------\n",
      "Ran 4 tests in 0.003s\n",
      "\n",
      "OK\n"
     ]
    },
    {
     "data": {
      "text/plain": [
       "<unittest.runner.TextTestResult run=4 errors=0 failures=0>"
      ]
     },
     "execution_count": 12,
     "metadata": {},
     "output_type": "execute_result"
    }
   ],
   "source": [
    "# Make the test suite\n",
    "tests = (TestFoo, \n",
    "         TestBar)\n",
    " \n",
    "# Run tests\n",
    "suite = unittest.TestSuite(tests=map(unittest.TestLoader().loadTestsFromTestCase, tests))\n",
    "runner = unittest.TextTestRunner(verbosity=2)\n",
    "runner.run(suite)"
   ]
  },
  {
   "cell_type": "markdown",
   "metadata": {},
   "source": [
    "# Unittests with a failure"
   ]
  },
  {
   "cell_type": "code",
   "execution_count": 13,
   "metadata": {},
   "outputs": [],
   "source": [
    "class TestFooFail(unittest.TestCase):\n",
    "    def test_foo_fail(self):\n",
    "        self.assertEqual('hello world', foo(1))"
   ]
  },
  {
   "cell_type": "code",
   "execution_count": 14,
   "metadata": {},
   "outputs": [
    {
     "name": "stderr",
     "output_type": "stream",
     "text": [
      "test_foo_1 (__main__.TestFoo) ... ok\n",
      "test_foo_2_3 (__main__.TestFoo) ... ok\n",
      "test_bar_1 (__main__.TestBar) ... ok\n",
      "test_bar_2_3 (__main__.TestBar) ... ok\n",
      "test_foo_fail (__main__.TestFooFail) ... FAIL\n",
      "\n",
      "======================================================================\n",
      "FAIL: test_foo_fail (__main__.TestFooFail)\n",
      "----------------------------------------------------------------------\n",
      "Traceback (most recent call last):\n",
      "  File \"<ipython-input-13-abe57d205430>\", line 3, in test_foo_fail\n",
      "    self.assertEqual('hello world', foo(1))\n",
      "AssertionError: 'hello world' != 12\n",
      "\n",
      "----------------------------------------------------------------------\n",
      "Ran 5 tests in 0.004s\n",
      "\n",
      "FAILED (failures=1)\n"
     ]
    },
    {
     "data": {
      "text/plain": [
       "<unittest.runner.TextTestResult run=5 errors=0 failures=1>"
      ]
     },
     "execution_count": 14,
     "metadata": {},
     "output_type": "execute_result"
    }
   ],
   "source": [
    "# Make the test suite\n",
    "tests = (TestFoo, \n",
    "         TestBar,\n",
    "         TestFooFail)\n",
    " \n",
    "# Run tests\n",
    "suite = unittest.TestSuite(tests=map(unittest.TestLoader().loadTestsFromTestCase, tests))\n",
    "runner = unittest.TextTestRunner(verbosity=2)\n",
    "runner.run(suite)"
   ]
  },
  {
   "cell_type": "code",
   "execution_count": null,
   "metadata": {},
   "outputs": [],
   "source": []
  }
 ],
 "metadata": {
  "kernelspec": {
   "display_name": "Python 3",
   "language": "python",
   "name": "python3"
  },
  "language_info": {
   "codemirror_mode": {
    "name": "ipython",
    "version": 3
   },
   "file_extension": ".py",
   "mimetype": "text/x-python",
   "name": "python",
   "nbconvert_exporter": "python",
   "pygments_lexer": "ipython3",
   "version": "3.7.3"
  }
 },
 "nbformat": 4,
 "nbformat_minor": 4
}
