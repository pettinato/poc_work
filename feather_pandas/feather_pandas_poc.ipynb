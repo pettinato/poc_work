{
 "cells": [
  {
   "cell_type": "code",
   "execution_count": 1,
   "metadata": {},
   "outputs": [
    {
     "data": {
      "text/html": [
       "<style>\n",
       "table {float:left}\n",
       "</style>\n",
       "\n",
       "# Fix the table alignment in the next cell\n"
      ],
      "text/plain": [
       "<IPython.core.display.HTML object>"
      ]
     },
     "metadata": {},
     "output_type": "display_data"
    }
   ],
   "source": [
    "%%html\n",
    "<style>\n",
    "table {float:left}\n",
    "</style>\n",
    "\n",
    "# Fix the table alignment in the next cell"
   ]
  },
  {
   "cell_type": "markdown",
   "metadata": {},
   "source": [
    "# POC of reading/writing a feather dataframe\n",
    "\n",
    "There is a nice writeup of file format comparisons [here](https://towardsdatascience.com/the-best-format-to-save-pandas-data-414dca023e0d), this notebook is just for my own exploration.\n",
    "\n",
    "With\n",
    "* 1M Rows\n",
    "* 10 Categorical Columns\n",
    "* 10 Numeric Columns\n",
    "\n",
    "With Test 1 using `object` for the categorical columns\n",
    "\n",
    "| File Type | Write Speed | Read Speed | File Size |\n",
    "|-----------|-------------|------------|-----------|\n",
    "| Feather   | 954 ms      | 489 ms     | 443M      |\n",
    "| CSV/GZ    | 34 s        | 8.47 s     | 143M      |\n",
    "\n",
    "<br/><br/> <br/><br/>\n",
    "With Test 2 using `pd.Categorical` for the categorical columns.  This is there Feather really shins as the categorical variables are heavily leveraged for reading/writing and file size.  Also when the dataframe is read in the categorical dtypes are automatically pulled from the file.  The csv file has object column types.\n",
    "<br/><br/>\n",
    "\n",
    "| File Type | Write Speed | Read Speed | File Size |\n",
    "|-----------|-------------|------------|-----------|\n",
    "| Feather   | 60.9 ms     | 61.8 ms    | 88M       |\n",
    "| CSV/GZ    | 32.8 s      | 7.99 s     | 143M      |\n",
    "\n",
    "<br/><br/> <br/><br/>\n",
    "\n",
    "(Note: These numbers may not 100% match below here, they are from a single run)"
   ]
  },
  {
   "cell_type": "code",
   "execution_count": 2,
   "metadata": {},
   "outputs": [],
   "source": [
    "%%capture\n",
    "!conda install --yes -c conda-forge feather-format\n",
    "!pip install hurry.filesize"
   ]
  },
  {
   "cell_type": "code",
   "execution_count": 3,
   "metadata": {},
   "outputs": [],
   "source": [
    "# Number of numerical columns to be generated in the test dataframe\n",
    "numerical_col_count = 10\n",
    "\n",
    "# Number of categorical columns to be generated in the test dataframe\n",
    "categorical_col_count = 10\n",
    "\n",
    "# Number of rows for the test dataframe\n",
    "n_rows = 1000000"
   ]
  },
  {
   "cell_type": "code",
   "execution_count": 4,
   "metadata": {},
   "outputs": [],
   "source": [
    "import numpy as np\n",
    "import pandas as pd\n",
    "from pandas.testing import assert_frame_equal\n",
    "import feather # Don't need this, just double checking that it's installed\n",
    "import tempfile\n",
    "import os\n",
    "from hurry.filesize import size"
   ]
  },
  {
   "cell_type": "code",
   "execution_count": 5,
   "metadata": {},
   "outputs": [],
   "source": [
    "# copied from https://towardsdatascience.com/the-best-format-to-save-pandas-data-414dca023e0d\n",
    "\n",
    "def generate_dataset(n_rows, num_count, cat_count, max_nan=0.1, max_cat_size=100):\n",
    "    \"\"\"Randomly generate datasets with numerical and categorical features.\n",
    "    \n",
    "    The numerical features are taken from the normal distribution X ~ N(0, 1).\n",
    "    The categorical features are generated as random uuid4 strings with \n",
    "    cardinality C where 2 <= C <= max_cat_size.\n",
    "    \n",
    "    Also, a max_nan proportion of both numerical and categorical features is replaces\n",
    "    with NaN values.\n",
    "    \"\"\"\n",
    "    dataset, types = {}, {}\n",
    "    \n",
    "    def generate_categories():\n",
    "        from uuid import uuid4\n",
    "        category_size = np.random.randint(2, max_cat_size)\n",
    "        return [str(uuid4()) for _ in range(category_size)]\n",
    "    \n",
    "    for col in range(num_count):\n",
    "        name = f'n{col}'\n",
    "        values = np.random.normal(0, 1, n_rows)\n",
    "        nan_cnt = np.random.randint(1, int(max_nan*n_rows))\n",
    "        index = np.random.choice(n_rows, nan_cnt, replace=False)\n",
    "        values[index] = np.nan\n",
    "        dataset[name] = values\n",
    "        types[name] = 'float32'\n",
    "        \n",
    "    for col in range(cat_count):\n",
    "        name = f'c{col}'\n",
    "        cats = generate_categories()\n",
    "        values = np.array(np.random.choice(cats, n_rows, replace=True), dtype=object)\n",
    "        nan_cnt = np.random.randint(1, int(max_nan*n_rows))\n",
    "        index = np.random.choice(n_rows, nan_cnt, replace=False)\n",
    "        values[index] = np.nan\n",
    "        dataset[name] = values\n",
    "        types[name] = 'object'\n",
    "    \n",
    "    return pd.DataFrame(dataset), types"
   ]
  },
  {
   "cell_type": "code",
   "execution_count": 6,
   "metadata": {},
   "outputs": [
    {
     "data": {
      "text/html": [
       "<div>\n",
       "<style scoped>\n",
       "    .dataframe tbody tr th:only-of-type {\n",
       "        vertical-align: middle;\n",
       "    }\n",
       "\n",
       "    .dataframe tbody tr th {\n",
       "        vertical-align: top;\n",
       "    }\n",
       "\n",
       "    .dataframe thead th {\n",
       "        text-align: right;\n",
       "    }\n",
       "</style>\n",
       "<table border=\"1\" class=\"dataframe\">\n",
       "  <thead>\n",
       "    <tr style=\"text-align: right;\">\n",
       "      <th></th>\n",
       "      <th>n0</th>\n",
       "      <th>n1</th>\n",
       "      <th>n2</th>\n",
       "      <th>n3</th>\n",
       "      <th>n4</th>\n",
       "      <th>n5</th>\n",
       "      <th>n6</th>\n",
       "      <th>n7</th>\n",
       "      <th>n8</th>\n",
       "      <th>n9</th>\n",
       "      <th>c0</th>\n",
       "      <th>c1</th>\n",
       "      <th>c2</th>\n",
       "      <th>c3</th>\n",
       "      <th>c4</th>\n",
       "      <th>c5</th>\n",
       "      <th>c6</th>\n",
       "      <th>c7</th>\n",
       "      <th>c8</th>\n",
       "      <th>c9</th>\n",
       "    </tr>\n",
       "  </thead>\n",
       "  <tbody>\n",
       "    <tr>\n",
       "      <th>0</th>\n",
       "      <td>-0.826762</td>\n",
       "      <td>0.255975</td>\n",
       "      <td>0.687763</td>\n",
       "      <td>-0.641403</td>\n",
       "      <td>0.203848</td>\n",
       "      <td>0.114130</td>\n",
       "      <td>-0.718027</td>\n",
       "      <td>-0.095465</td>\n",
       "      <td>1.049963</td>\n",
       "      <td>-0.015310</td>\n",
       "      <td>6eff2a18-8f5e-45cd-95fa-aeca47af178a</td>\n",
       "      <td>bc00f60e-b8ff-4291-8e58-afce86c43cbe</td>\n",
       "      <td>7e873652-e519-4d6a-98aa-83952f9b53f1</td>\n",
       "      <td>6c6c2571-43c8-463e-a083-284025a0c798</td>\n",
       "      <td>7f43943f-b6a5-4d3f-b6e0-1009726be4ca</td>\n",
       "      <td>72523ecb-cac3-4d25-829e-c11952534a04</td>\n",
       "      <td>bf956841-ce1a-49fe-9c8b-c08ff17e6055</td>\n",
       "      <td>c1d98ede-d098-4c6d-9365-f9f9d4748b4e</td>\n",
       "      <td>bea7e07a-233e-4a80-9134-aa053c0f4d8b</td>\n",
       "      <td>b742fdb9-ab3f-4d5f-9657-88bf5ce78eb8</td>\n",
       "    </tr>\n",
       "    <tr>\n",
       "      <th>1</th>\n",
       "      <td>-0.906168</td>\n",
       "      <td>-0.765864</td>\n",
       "      <td>-2.224771</td>\n",
       "      <td>1.096117</td>\n",
       "      <td>-1.219615</td>\n",
       "      <td>-1.394968</td>\n",
       "      <td>-0.299018</td>\n",
       "      <td>-0.314434</td>\n",
       "      <td>1.248955</td>\n",
       "      <td>2.858609</td>\n",
       "      <td>c785330b-7a89-4900-9536-539dcc3e1bb2</td>\n",
       "      <td>ee5ff891-ce6a-4779-be4c-ccc05e9bdfd2</td>\n",
       "      <td>7e873652-e519-4d6a-98aa-83952f9b53f1</td>\n",
       "      <td>5b506d05-75c4-4d66-9a70-aad028355123</td>\n",
       "      <td>b9de2301-529a-41d0-a268-ee34d4d575ac</td>\n",
       "      <td>f709fc88-b3a8-47ca-a75f-39831f8350c2</td>\n",
       "      <td>ae7107a6-2184-4d54-8f3c-3df4f3e5389c</td>\n",
       "      <td>NaN</td>\n",
       "      <td>3669ab7d-7c75-47be-b476-2e75dc3561dd</td>\n",
       "      <td>ad4e2c7b-936c-4c58-9aaa-a5587dfadeb6</td>\n",
       "    </tr>\n",
       "    <tr>\n",
       "      <th>2</th>\n",
       "      <td>0.193081</td>\n",
       "      <td>1.543829</td>\n",
       "      <td>0.652607</td>\n",
       "      <td>-0.383484</td>\n",
       "      <td>-2.034771</td>\n",
       "      <td>0.774398</td>\n",
       "      <td>-1.316463</td>\n",
       "      <td>0.486021</td>\n",
       "      <td>-1.305522</td>\n",
       "      <td>-0.755622</td>\n",
       "      <td>39a51649-c4d0-40bb-8437-f835325c1e0a</td>\n",
       "      <td>e1a3a4fb-c98b-43bc-9f4f-e27a18522896</td>\n",
       "      <td>e950899c-3c40-45ed-9dca-dcf5ec2e6e67</td>\n",
       "      <td>a851ea74-0d9b-4a0d-9f2f-fa804946c5df</td>\n",
       "      <td>9aee1c92-d2c1-4fb3-8bac-e22d5b3b1daa</td>\n",
       "      <td>9bae9c3b-6f4f-4b63-82f4-61048fe8626a</td>\n",
       "      <td>7174e1fe-0f5e-4f1e-a554-13edf15f4347</td>\n",
       "      <td>75f1f1ec-d488-4b76-b565-b98779e9ce3c</td>\n",
       "      <td>c1b4a6be-1147-49d4-8e30-eb3598561dab</td>\n",
       "      <td>bf2fb51e-8445-45d6-abc8-e15b4d4f6069</td>\n",
       "    </tr>\n",
       "  </tbody>\n",
       "</table>\n",
       "</div>"
      ],
      "text/plain": [
       "         n0        n1        n2        n3        n4        n5        n6  \\\n",
       "0 -0.826762  0.255975  0.687763 -0.641403  0.203848  0.114130 -0.718027   \n",
       "1 -0.906168 -0.765864 -2.224771  1.096117 -1.219615 -1.394968 -0.299018   \n",
       "2  0.193081  1.543829  0.652607 -0.383484 -2.034771  0.774398 -1.316463   \n",
       "\n",
       "         n7        n8        n9                                    c0  \\\n",
       "0 -0.095465  1.049963 -0.015310  6eff2a18-8f5e-45cd-95fa-aeca47af178a   \n",
       "1 -0.314434  1.248955  2.858609  c785330b-7a89-4900-9536-539dcc3e1bb2   \n",
       "2  0.486021 -1.305522 -0.755622  39a51649-c4d0-40bb-8437-f835325c1e0a   \n",
       "\n",
       "                                     c1                                    c2  \\\n",
       "0  bc00f60e-b8ff-4291-8e58-afce86c43cbe  7e873652-e519-4d6a-98aa-83952f9b53f1   \n",
       "1  ee5ff891-ce6a-4779-be4c-ccc05e9bdfd2  7e873652-e519-4d6a-98aa-83952f9b53f1   \n",
       "2  e1a3a4fb-c98b-43bc-9f4f-e27a18522896  e950899c-3c40-45ed-9dca-dcf5ec2e6e67   \n",
       "\n",
       "                                     c3                                    c4  \\\n",
       "0  6c6c2571-43c8-463e-a083-284025a0c798  7f43943f-b6a5-4d3f-b6e0-1009726be4ca   \n",
       "1  5b506d05-75c4-4d66-9a70-aad028355123  b9de2301-529a-41d0-a268-ee34d4d575ac   \n",
       "2  a851ea74-0d9b-4a0d-9f2f-fa804946c5df  9aee1c92-d2c1-4fb3-8bac-e22d5b3b1daa   \n",
       "\n",
       "                                     c5                                    c6  \\\n",
       "0  72523ecb-cac3-4d25-829e-c11952534a04  bf956841-ce1a-49fe-9c8b-c08ff17e6055   \n",
       "1  f709fc88-b3a8-47ca-a75f-39831f8350c2  ae7107a6-2184-4d54-8f3c-3df4f3e5389c   \n",
       "2  9bae9c3b-6f4f-4b63-82f4-61048fe8626a  7174e1fe-0f5e-4f1e-a554-13edf15f4347   \n",
       "\n",
       "                                     c7                                    c8  \\\n",
       "0  c1d98ede-d098-4c6d-9365-f9f9d4748b4e  bea7e07a-233e-4a80-9134-aa053c0f4d8b   \n",
       "1                                   NaN  3669ab7d-7c75-47be-b476-2e75dc3561dd   \n",
       "2  75f1f1ec-d488-4b76-b565-b98779e9ce3c  c1b4a6be-1147-49d4-8e30-eb3598561dab   \n",
       "\n",
       "                                     c9  \n",
       "0  b742fdb9-ab3f-4d5f-9657-88bf5ce78eb8  \n",
       "1  ad4e2c7b-936c-4c58-9aaa-a5587dfadeb6  \n",
       "2  bf2fb51e-8445-45d6-abc8-e15b4d4f6069  "
      ]
     },
     "metadata": {},
     "output_type": "display_data"
    },
    {
     "data": {
      "text/plain": [
       "{'n0': 'float32',\n",
       " 'n1': 'float32',\n",
       " 'n2': 'float32',\n",
       " 'n3': 'float32',\n",
       " 'n4': 'float32',\n",
       " 'n5': 'float32',\n",
       " 'n6': 'float32',\n",
       " 'n7': 'float32',\n",
       " 'n8': 'float32',\n",
       " 'n9': 'float32',\n",
       " 'c0': 'object',\n",
       " 'c1': 'object',\n",
       " 'c2': 'object',\n",
       " 'c3': 'object',\n",
       " 'c4': 'object',\n",
       " 'c5': 'object',\n",
       " 'c6': 'object',\n",
       " 'c7': 'object',\n",
       " 'c8': 'object',\n",
       " 'c9': 'object'}"
      ]
     },
     "metadata": {},
     "output_type": "display_data"
    }
   ],
   "source": [
    "df, types = generate_dataset(n_rows, numerical_col_count, categorical_col_count)\n",
    "display(df.head(3))\n",
    "display(types)"
   ]
  },
  {
   "cell_type": "markdown",
   "metadata": {},
   "source": [
    "# Speeds for reading/writing\n",
    "* feather\n",
    "* gzip/csv"
   ]
  },
  {
   "cell_type": "code",
   "execution_count": 7,
   "metadata": {},
   "outputs": [],
   "source": [
    "out_feather_tmp_file = tempfile.NamedTemporaryFile(suffix='.feather')\n",
    "out_gzip_csv_tmp_file = tempfile.NamedTemporaryFile(suffix='.csv.gz')"
   ]
  },
  {
   "cell_type": "markdown",
   "metadata": {},
   "source": [
    "## Speed to write a feather file"
   ]
  },
  {
   "cell_type": "code",
   "execution_count": 8,
   "metadata": {},
   "outputs": [
    {
     "name": "stdout",
     "output_type": "stream",
     "text": [
      "CPU times: user 683 ms, sys: 352 ms, total: 1.04 s\n",
      "Wall time: 1.01 s\n"
     ]
    }
   ],
   "source": [
    "%%time\n",
    "df.to_feather(out_feather_tmp_file.name)"
   ]
  },
  {
   "cell_type": "markdown",
   "metadata": {},
   "source": [
    "## Speed to read a feather file"
   ]
  },
  {
   "cell_type": "code",
   "execution_count": 9,
   "metadata": {},
   "outputs": [
    {
     "name": "stdout",
     "output_type": "stream",
     "text": [
      "CPU times: user 433 ms, sys: 285 ms, total: 718 ms\n",
      "Wall time: 455 ms\n"
     ]
    }
   ],
   "source": [
    "%%time\n",
    "feather_df = pd.read_feather(out_feather_tmp_file.name)"
   ]
  },
  {
   "cell_type": "code",
   "execution_count": 10,
   "metadata": {},
   "outputs": [],
   "source": [
    "assert_frame_equal(df, feather_df)"
   ]
  },
  {
   "cell_type": "markdown",
   "metadata": {},
   "source": [
    "## Speed to write a gziped csv"
   ]
  },
  {
   "cell_type": "code",
   "execution_count": 11,
   "metadata": {},
   "outputs": [
    {
     "name": "stdout",
     "output_type": "stream",
     "text": [
      "CPU times: user 35.3 s, sys: 147 ms, total: 35.5 s\n",
      "Wall time: 35.5 s\n"
     ]
    }
   ],
   "source": [
    "%%time\n",
    "df.to_csv(out_gzip_csv_tmp_file.name, compression='gzip')"
   ]
  },
  {
   "cell_type": "markdown",
   "metadata": {},
   "source": [
    "## Speed to read a gziped csv"
   ]
  },
  {
   "cell_type": "code",
   "execution_count": 12,
   "metadata": {},
   "outputs": [
    {
     "name": "stdout",
     "output_type": "stream",
     "text": [
      "CPU times: user 9.62 s, sys: 390 ms, total: 10 s\n",
      "Wall time: 8.5 s\n"
     ]
    }
   ],
   "source": [
    "%%time\n",
    "csv_gzip_df = pd.read_csv(out_gzip_csv_tmp_file.name)"
   ]
  },
  {
   "cell_type": "code",
   "execution_count": 13,
   "metadata": {},
   "outputs": [
    {
     "name": "stdout",
     "output_type": "stream",
     "text": [
      "FAILURE: Frames are unequal!\n"
     ]
    }
   ],
   "source": [
    "try:\n",
    "    assert_frame_equal(df, csv_gzip_df)\n",
    "    print(\"SUCCESS: Frames are equal!\")\n",
    "except:\n",
    "    print(\"FAILURE: Frames are unequal!\")\n",
    "\n",
    "# By default the csv file has an index read in as an additional column\n",
    "assert_frame_equal(df, csv_gzip_df.drop(columns=['Unnamed: 0']))"
   ]
  },
  {
   "cell_type": "markdown",
   "metadata": {},
   "source": [
    "# Comparison of File Sizes"
   ]
  },
  {
   "cell_type": "code",
   "execution_count": 14,
   "metadata": {},
   "outputs": [
    {
     "name": "stdout",
     "output_type": "stream",
     "text": [
      "Size of Feather File in MB: 444M\n",
      "Size of csv/gzip File in MB: 174M\n"
     ]
    }
   ],
   "source": [
    "feather_size_mb = size(os.path.getsize(out_feather_tmp_file.name))\n",
    "csv_gzip_size_mb = size(os.path.getsize(out_gzip_csv_tmp_file.name))\n",
    "\n",
    "print(f\"Size of Feather File in MB: {feather_size_mb}\")\n",
    "print(f\"Size of csv/gzip File in MB: {csv_gzip_size_mb}\")"
   ]
  },
  {
   "cell_type": "markdown",
   "metadata": {},
   "source": [
    "# Use pd.Categorical\n",
    "\n",
    "One benefit of Feather is that it stores the type of the object.\n",
    "\n",
    "So let's try that with a categorical column"
   ]
  },
  {
   "cell_type": "code",
   "execution_count": 15,
   "metadata": {},
   "outputs": [],
   "source": [
    "for col in df.dtypes[df.dtypes == 'object'].index:\n",
    "    df[col] = df[col].astype('category')"
   ]
  },
  {
   "cell_type": "code",
   "execution_count": 16,
   "metadata": {},
   "outputs": [
    {
     "name": "stdout",
     "output_type": "stream",
     "text": [
      "CPU times: user 136 ms, sys: 47.3 ms, total: 184 ms\n",
      "Wall time: 62.8 ms\n"
     ]
    }
   ],
   "source": [
    "%%time\n",
    "df.to_feather(out_feather_tmp_file.name)"
   ]
  },
  {
   "cell_type": "markdown",
   "metadata": {},
   "source": [
    "## Speed to read a feather file"
   ]
  },
  {
   "cell_type": "code",
   "execution_count": 17,
   "metadata": {},
   "outputs": [
    {
     "name": "stdout",
     "output_type": "stream",
     "text": [
      "CPU times: user 158 ms, sys: 198 ms, total: 356 ms\n",
      "Wall time: 62.4 ms\n"
     ]
    }
   ],
   "source": [
    "%%time\n",
    "feather_df = pd.read_feather(out_feather_tmp_file.name)"
   ]
  },
  {
   "cell_type": "code",
   "execution_count": 18,
   "metadata": {},
   "outputs": [],
   "source": [
    "assert_frame_equal(df, feather_df)"
   ]
  },
  {
   "cell_type": "markdown",
   "metadata": {},
   "source": [
    "## Speed to write a gziped csv"
   ]
  },
  {
   "cell_type": "code",
   "execution_count": 19,
   "metadata": {},
   "outputs": [
    {
     "name": "stdout",
     "output_type": "stream",
     "text": [
      "CPU times: user 34.8 s, sys: 176 ms, total: 35 s\n",
      "Wall time: 35 s\n"
     ]
    }
   ],
   "source": [
    "%%time\n",
    "df.to_csv(out_gzip_csv_tmp_file.name, compression='gzip')"
   ]
  },
  {
   "cell_type": "markdown",
   "metadata": {},
   "source": [
    "## Speed to read a gziped csv"
   ]
  },
  {
   "cell_type": "code",
   "execution_count": 20,
   "metadata": {},
   "outputs": [
    {
     "name": "stdout",
     "output_type": "stream",
     "text": [
      "CPU times: user 9.58 s, sys: 389 ms, total: 9.97 s\n",
      "Wall time: 8.41 s\n"
     ]
    }
   ],
   "source": [
    "%%time\n",
    "csv_gzip_df = pd.read_csv(out_gzip_csv_tmp_file.name)"
   ]
  },
  {
   "cell_type": "code",
   "execution_count": 21,
   "metadata": {},
   "outputs": [
    {
     "name": "stdout",
     "output_type": "stream",
     "text": [
      "FAILURE: Frames are unequal!\n",
      "Starting to see the benefits of Feather here as the dtypes differ\n"
     ]
    },
    {
     "data": {
      "text/html": [
       "<div>\n",
       "<style scoped>\n",
       "    .dataframe tbody tr th:only-of-type {\n",
       "        vertical-align: middle;\n",
       "    }\n",
       "\n",
       "    .dataframe tbody tr th {\n",
       "        vertical-align: top;\n",
       "    }\n",
       "\n",
       "    .dataframe thead th {\n",
       "        text-align: right;\n",
       "    }\n",
       "</style>\n",
       "<table border=\"1\" class=\"dataframe\">\n",
       "  <thead>\n",
       "    <tr style=\"text-align: right;\">\n",
       "      <th></th>\n",
       "      <th>dtypes_from_original_df</th>\n",
       "      <th>dtypes_from_csv_gzip_df</th>\n",
       "    </tr>\n",
       "  </thead>\n",
       "  <tbody>\n",
       "    <tr>\n",
       "      <th>Unnamed: 0</th>\n",
       "      <td>NaN</td>\n",
       "      <td>int64</td>\n",
       "    </tr>\n",
       "    <tr>\n",
       "      <th>c0</th>\n",
       "      <td>category</td>\n",
       "      <td>object</td>\n",
       "    </tr>\n",
       "    <tr>\n",
       "      <th>c1</th>\n",
       "      <td>category</td>\n",
       "      <td>object</td>\n",
       "    </tr>\n",
       "    <tr>\n",
       "      <th>c2</th>\n",
       "      <td>category</td>\n",
       "      <td>object</td>\n",
       "    </tr>\n",
       "    <tr>\n",
       "      <th>c3</th>\n",
       "      <td>category</td>\n",
       "      <td>object</td>\n",
       "    </tr>\n",
       "    <tr>\n",
       "      <th>c4</th>\n",
       "      <td>category</td>\n",
       "      <td>object</td>\n",
       "    </tr>\n",
       "    <tr>\n",
       "      <th>c5</th>\n",
       "      <td>category</td>\n",
       "      <td>object</td>\n",
       "    </tr>\n",
       "    <tr>\n",
       "      <th>c6</th>\n",
       "      <td>category</td>\n",
       "      <td>object</td>\n",
       "    </tr>\n",
       "    <tr>\n",
       "      <th>c7</th>\n",
       "      <td>category</td>\n",
       "      <td>object</td>\n",
       "    </tr>\n",
       "    <tr>\n",
       "      <th>c8</th>\n",
       "      <td>category</td>\n",
       "      <td>object</td>\n",
       "    </tr>\n",
       "    <tr>\n",
       "      <th>c9</th>\n",
       "      <td>category</td>\n",
       "      <td>object</td>\n",
       "    </tr>\n",
       "    <tr>\n",
       "      <th>n0</th>\n",
       "      <td>float64</td>\n",
       "      <td>float64</td>\n",
       "    </tr>\n",
       "    <tr>\n",
       "      <th>n1</th>\n",
       "      <td>float64</td>\n",
       "      <td>float64</td>\n",
       "    </tr>\n",
       "    <tr>\n",
       "      <th>n2</th>\n",
       "      <td>float64</td>\n",
       "      <td>float64</td>\n",
       "    </tr>\n",
       "    <tr>\n",
       "      <th>n3</th>\n",
       "      <td>float64</td>\n",
       "      <td>float64</td>\n",
       "    </tr>\n",
       "    <tr>\n",
       "      <th>n4</th>\n",
       "      <td>float64</td>\n",
       "      <td>float64</td>\n",
       "    </tr>\n",
       "    <tr>\n",
       "      <th>n5</th>\n",
       "      <td>float64</td>\n",
       "      <td>float64</td>\n",
       "    </tr>\n",
       "    <tr>\n",
       "      <th>n6</th>\n",
       "      <td>float64</td>\n",
       "      <td>float64</td>\n",
       "    </tr>\n",
       "    <tr>\n",
       "      <th>n7</th>\n",
       "      <td>float64</td>\n",
       "      <td>float64</td>\n",
       "    </tr>\n",
       "    <tr>\n",
       "      <th>n8</th>\n",
       "      <td>float64</td>\n",
       "      <td>float64</td>\n",
       "    </tr>\n",
       "    <tr>\n",
       "      <th>n9</th>\n",
       "      <td>float64</td>\n",
       "      <td>float64</td>\n",
       "    </tr>\n",
       "  </tbody>\n",
       "</table>\n",
       "</div>"
      ],
      "text/plain": [
       "           dtypes_from_original_df dtypes_from_csv_gzip_df\n",
       "Unnamed: 0                     NaN                   int64\n",
       "c0                        category                  object\n",
       "c1                        category                  object\n",
       "c2                        category                  object\n",
       "c3                        category                  object\n",
       "c4                        category                  object\n",
       "c5                        category                  object\n",
       "c6                        category                  object\n",
       "c7                        category                  object\n",
       "c8                        category                  object\n",
       "c9                        category                  object\n",
       "n0                         float64                 float64\n",
       "n1                         float64                 float64\n",
       "n2                         float64                 float64\n",
       "n3                         float64                 float64\n",
       "n4                         float64                 float64\n",
       "n5                         float64                 float64\n",
       "n6                         float64                 float64\n",
       "n7                         float64                 float64\n",
       "n8                         float64                 float64\n",
       "n9                         float64                 float64"
      ]
     },
     "metadata": {},
     "output_type": "display_data"
    }
   ],
   "source": [
    "try:\n",
    "    # By default the csv file has an index read in as an additional column\n",
    "    assert_frame_equal(df, csv_gzip_df.drop(columns=['Unnamed: 0']))\n",
    "    print(\"SUCCESS: Frames are equal!\")\n",
    "except:\n",
    "    print(\"FAILURE: Frames are unequal!\")\n",
    "    \n",
    "print(\"Starting to see the benefits of Feather here as the dtypes differ\")\n",
    "display(pd.concat([df.dtypes, csv_gzip_df.dtypes], axis=1, sort=True)\n",
    "        .rename(columns={0:'dtypes_from_original_df', 1:'dtypes_from_csv_gzip_df'}))"
   ]
  },
  {
   "cell_type": "markdown",
   "metadata": {},
   "source": [
    "# Comparison of File Sizes"
   ]
  },
  {
   "cell_type": "code",
   "execution_count": 22,
   "metadata": {},
   "outputs": [
    {
     "name": "stdout",
     "output_type": "stream",
     "text": [
      "Size of Feather File in MB: 88M\n",
      "Size of csv/gzip File in MB: 174M\n"
     ]
    }
   ],
   "source": [
    "feather_size_mb = size(os.path.getsize(out_feather_tmp_file.name))\n",
    "csv_gzip_size_mb = size(os.path.getsize(out_gzip_csv_tmp_file.name))\n",
    "\n",
    "print(f\"Size of Feather File in MB: {feather_size_mb}\")\n",
    "print(f\"Size of csv/gzip File in MB: {csv_gzip_size_mb}\")"
   ]
  },
  {
   "cell_type": "code",
   "execution_count": null,
   "metadata": {},
   "outputs": [],
   "source": []
  }
 ],
 "metadata": {
  "kernelspec": {
   "display_name": "Python 3",
   "language": "python",
   "name": "python3"
  },
  "language_info": {
   "codemirror_mode": {
    "name": "ipython",
    "version": 3
   },
   "file_extension": ".py",
   "mimetype": "text/x-python",
   "name": "python",
   "nbconvert_exporter": "python",
   "pygments_lexer": "ipython3",
   "version": "3.7.3"
  }
 },
 "nbformat": 4,
 "nbformat_minor": 2
}
