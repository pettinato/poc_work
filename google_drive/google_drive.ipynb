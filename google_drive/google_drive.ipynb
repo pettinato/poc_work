{
 "cells": [
  {
   "cell_type": "markdown",
   "metadata": {},
   "source": [
    "# POC Pushing a file into Google Drive using the Google API"
   ]
  },
  {
   "cell_type": "code",
   "execution_count": null,
   "metadata": {},
   "outputs": [],
   "source": [
    "from __future__ import print_function\n",
    "import pickle\n",
    "import os\n",
    "import os.path\n",
    "from googleapiclient.discovery import build\n",
    "from google_auth_oauthlib.flow import InstalledAppFlow\n",
    "from google.auth.transport.requests import Request\n",
    "from googleapiclient.http import MediaFileUpload"
   ]
  },
  {
   "cell_type": "markdown",
   "metadata": {},
   "source": [
    "# Method 1 - follow the Documentation Tutorial\n",
    "Doesn't Oauth2 so it's not helpful for a automated solution"
   ]
  },
  {
   "cell_type": "code",
   "execution_count": null,
   "metadata": {},
   "outputs": [],
   "source": [
    "os.remove('token.pickle')"
   ]
  },
  {
   "cell_type": "code",
   "execution_count": null,
   "metadata": {},
   "outputs": [],
   "source": [
    "# If modifying these scopes, delete the file token.pickle.\n",
    "# SCOPES = ['https://www.googleapis.com/auth/drive.metadata.readonly']\n",
    "SCOPES = ['https://www.googleapis.com/auth/drive', \n",
    "          'https://www.googleapis.com/auth/drive.file']\n",
    "\n",
    "\"\"\"Shows basic usage of the Drive v3 API.\n",
    "Prints the names and ids of the first 10 files the user has access to.\n",
    "\"\"\"\n",
    "creds = None\n",
    "# The file token.pickle stores the user's access and refresh tokens, and is\n",
    "# created automatically when the authorization flow completes for the first\n",
    "# time.\n",
    "if os.path.exists('token.pickle'):\n",
    "    with open('token.pickle', 'rb') as token:\n",
    "        creds = pickle.load(token)\n",
    "# If there are no (valid) credentials available, let the user log in.\n",
    "if not creds or not creds.valid:\n",
    "    if creds and creds.expired and creds.refresh_token:\n",
    "        creds.refresh(Request())\n",
    "    else:\n",
    "        flow = InstalledAppFlow.from_client_secrets_file('credentials.json', SCOPES)\n",
    "        creds = flow.run_local_server(port=0)\n",
    "    # Save the credentials for the next run\n",
    "    with open('token.pickle', 'wb') as token:\n",
    "        pickle.dump(creds, token)"
   ]
  },
  {
   "cell_type": "code",
   "execution_count": null,
   "metadata": {},
   "outputs": [],
   "source": [
    "# List the files in Google Drive\n",
    "service = build('drive', 'v3', credentials=creds)\n",
    "\n",
    "# Call the Drive v3 API\n",
    "results = service.files().list(\n",
    "    pageSize=10, fields=\"nextPageToken, files(id, name)\").execute()\n",
    "items = results.get('files', [])\n",
    "\n",
    "if not items:\n",
    "    print('No files found.')\n",
    "else:\n",
    "    print('Files:')\n",
    "    for item in items:\n",
    "        print(u'{0} ({1})'.format(item['name'], item['id']))"
   ]
  },
  {
   "cell_type": "code",
   "execution_count": null,
   "metadata": {},
   "outputs": [],
   "source": [
    "# Copy this file into Google Drive\n",
    "with open('the_file.txt', 'w') as f:\n",
    "    f.write('hello world - v2')\n",
    "\n",
    "# From Google Drive URL https://drive.google.com/drive/folders/fjio34nri32o4839f2FEDSfdsa_userYourOwnHere\n",
    "# If rerunning, be sure to update this directory\n",
    "destination_folder_id = 'fjio34nri32o4839f2FEDSfdsa_userYourOwnHere'\n",
    "\n",
    "file_metadata = {\n",
    "              'parents' : [destination_folder_id],\n",
    "              'name': 'the_file.txt'}\n",
    "media = MediaFileUpload('the_file.txt')\n",
    "file = service.files().create(body=file_metadata, media_body=media, fields='id').execute()\n"
   ]
  },
  {
   "cell_type": "code",
   "execution_count": null,
   "metadata": {},
   "outputs": [],
   "source": [
    "# Make a new directory and upload the file there\n",
    "# Running this a second time will just make a new directory\n",
    "file_metadata = {\n",
    "    'name': 'new_folder_1',\n",
    "    'parents': [destination_folder_id],\n",
    "    'mimeType': 'application/vnd.google-apps.folder'\n",
    "}\n",
    "file = service.files().create(body=file_metadata,\n",
    "                                    fields='id').execute()\n",
    "subdir_file_id = file.get('id')\n",
    "\n",
    "file_metadata = {\n",
    "    'name': 'the_file.txt',\n",
    "    'parents': [subdir_file_id]\n",
    "}\n",
    "media = MediaFileUpload('the_file.txt')\n",
    "file = service.files().create(body=file_metadata,\n",
    "                                    media_body=media,\n",
    "                                    fields='id').execute()"
   ]
  },
  {
   "cell_type": "markdown",
   "metadata": {},
   "source": [
    "# Method 2 - Use OAuth 2.0 for an automated solution"
   ]
  },
  {
   "cell_type": "code",
   "execution_count": null,
   "metadata": {},
   "outputs": [],
   "source": [
    "# Steps\n",
    "# 1. https://console.developers.google.com/iam-admin/serviceaccounts\n",
    "# 2. Create Project - dora-dev\n",
    "# 3. Create Service Account - dora-dev\n",
    "# 4. Continue - Done\n",
    "# 5. Click on Service Account - Add Key - Create New Key - JSON - Download\n",
    "# 6. key_file_location below should point to this file\n",
    "# 7. Search for Google Drive API and Enable it\n",
    "\n",
    "# Directions are also here - https://help.talend.com/reader/E3i03eb7IpvsigwC58fxQg/EjqPCVhQjCFPP6pU5Bzvdw\n",
    "\n",
    "from googleapiclient.discovery import build\n",
    "from oauth2client.service_account import ServiceAccountCredentials\n",
    "\n",
    "# What other scopes are there? https://developers.google.com/identity/protocols/oauth2/scopes#drive\n",
    "scopes = ['https://www.googleapis.com/auth/drive'\n",
    "          , 'https://www.googleapis.com/auth/drive.file']\n",
    "\n",
    "key_file_location = '/Users/stephenpettinato/September/dora-dev-290518-2d196386bb81.json'\n",
    "\n",
    "creds = ServiceAccountCredentials.from_json_keyfile_name(key_file_location, scopes=scopes)\n",
    "\n",
    "service2 = build('drive', 'v3', credentials=creds)\n",
    "print('connection OK')"
   ]
  },
  {
   "cell_type": "code",
   "execution_count": null,
   "metadata": {},
   "outputs": [],
   "source": [
    "# Make a new directory and upload the file there\n",
    "# Running this a second time will just make a new directory\n",
    "# Make sure your service account has access to this directory\n",
    "# 1. https://console.developers.google.com/iam-admin/serviceaccounts\n",
    "# 2. Click on your project\n",
    "# 3. Copy the email address\n",
    "# 4. Go to the directory location\n",
    "# 5. Enable Editor access for this service account email address\n",
    "\n",
    "# https://drive.google.com/drive/folders/fjio34nri32o4839f2FEDSfdsa_userYourOwnHere\n",
    "destination_folder_id = 'fjio34nri32o4839f2FEDSfdsa_userYourOwnHere'\n",
    "\n",
    "file_metadata = {\n",
    "    'name': 'new_folder_1',\n",
    "    'parents': [destination_folder_id],\n",
    "    'mimeType': 'application/vnd.google-apps.folder'\n",
    "}\n",
    "file = service2.files().create(body=file_metadata,\n",
    "                                    fields='id').execute()\n",
    "subdir_file_id = file.get('id')\n",
    "\n",
    "file_metadata = {\n",
    "    'name': 'the_file.txt',\n",
    "    'parents': [subdir_file_id]\n",
    "}\n",
    "media = MediaFileUpload('the_file.txt')\n",
    "file = service2.files().create(body=file_metadata,\n",
    "                                    media_body=media,\n",
    "                                    fields='id').execute()"
   ]
  },
  {
   "cell_type": "code",
   "execution_count": null,
   "metadata": {},
   "outputs": [],
   "source": []
  }
 ],
 "metadata": {
  "kernelspec": {
   "display_name": "adhoc_analysis",
   "language": "python",
   "name": "adhoc_analysis"
  },
  "language_info": {
   "codemirror_mode": {
    "name": "ipython",
    "version": 3
   },
   "file_extension": ".py",
   "mimetype": "text/x-python",
   "name": "python",
   "nbconvert_exporter": "python",
   "pygments_lexer": "ipython3",
   "version": "3.7.6"
  }
 },
 "nbformat": 4,
 "nbformat_minor": 4
}
