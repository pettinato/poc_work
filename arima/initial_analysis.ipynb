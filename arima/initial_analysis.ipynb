{
 "cells": [
  {
   "cell_type": "markdown",
   "metadata": {},
   "source": [
    "# Timeseries with ARIMA\n",
    "Using tutorial https://machinelearningmastery.com/arima-for-time-series-forecasting-with-python/\n",
    "\n",
    "and this book `Time Series Analysis and Its Applications: With R Examples` for theory."
   ]
  },
  {
   "cell_type": "code",
   "execution_count": 1,
   "metadata": {
    "collapsed": false
   },
   "outputs": [
    {
     "name": "stdout",
     "output_type": "stream",
     "text": [
      "env: OMP_NUM_THREADS=2\n"
     ]
    }
   ],
   "source": [
    "import numpy as np\n",
    "import pandas as pd\n",
    "import re\n",
    "import os\n",
    "from pandas.plotting import scatter_matrix\n",
    "\n",
    "get_ipython().magic(u'env OMP_NUM_THREADS=2')\n",
    "\n",
    "from IPython.display import display, HTML\n",
    "\n",
    "%matplotlib inline\n",
    "import matplotlib.pyplot as plt\n",
    "\n",
    "#get_ipython().magic(u'matplotlib')\n",
    "#get_ipython().magic(u'matplotlib inline')\n",
    "\n",
    "# Set the ransom seed used for the whole program to allow reprocibility\n",
    "np.random.seed(3214412)\n",
    "\n",
    "from scipy.stats import pearsonr"
   ]
  },
  {
   "cell_type": "code",
   "execution_count": 2,
   "metadata": {
    "collapsed": true
   },
   "outputs": [],
   "source": [
    "data_file = 'AirQualityUCI.csv'"
   ]
  },
  {
   "cell_type": "code",
   "execution_count": 3,
   "metadata": {
    "collapsed": false
   },
   "outputs": [],
   "source": [
    "# For European data use , as the decimal point\n",
    "raw_df = pd.read_csv(data_file, sep=';', decimal=',')"
   ]
  },
  {
   "cell_type": "code",
   "execution_count": 4,
   "metadata": {
    "collapsed": false
   },
   "outputs": [
    {
     "data": {
      "text/html": [
       "<div>\n",
       "<style scoped>\n",
       "    .dataframe tbody tr th:only-of-type {\n",
       "        vertical-align: middle;\n",
       "    }\n",
       "\n",
       "    .dataframe tbody tr th {\n",
       "        vertical-align: top;\n",
       "    }\n",
       "\n",
       "    .dataframe thead th {\n",
       "        text-align: right;\n",
       "    }\n",
       "</style>\n",
       "<table border=\"1\" class=\"dataframe\">\n",
       "  <thead>\n",
       "    <tr style=\"text-align: right;\">\n",
       "      <th></th>\n",
       "      <th>Date</th>\n",
       "      <th>Time</th>\n",
       "      <th>CO(GT)</th>\n",
       "      <th>PT08.S1(CO)</th>\n",
       "      <th>NMHC(GT)</th>\n",
       "      <th>C6H6(GT)</th>\n",
       "      <th>PT08.S2(NMHC)</th>\n",
       "      <th>NOx(GT)</th>\n",
       "      <th>PT08.S3(NOx)</th>\n",
       "      <th>NO2(GT)</th>\n",
       "      <th>PT08.S4(NO2)</th>\n",
       "      <th>PT08.S5(O3)</th>\n",
       "      <th>T</th>\n",
       "      <th>RH</th>\n",
       "      <th>AH</th>\n",
       "      <th>Unnamed: 15</th>\n",
       "      <th>Unnamed: 16</th>\n",
       "    </tr>\n",
       "  </thead>\n",
       "  <tbody>\n",
       "    <tr>\n",
       "      <th>0</th>\n",
       "      <td>10/03/2004</td>\n",
       "      <td>18.00.00</td>\n",
       "      <td>2.6</td>\n",
       "      <td>1360.0</td>\n",
       "      <td>150.0</td>\n",
       "      <td>11.9</td>\n",
       "      <td>1046.0</td>\n",
       "      <td>166.0</td>\n",
       "      <td>1056.0</td>\n",
       "      <td>113.0</td>\n",
       "      <td>1692.0</td>\n",
       "      <td>1268.0</td>\n",
       "      <td>13.6</td>\n",
       "      <td>48.9</td>\n",
       "      <td>0.7578</td>\n",
       "      <td>NaN</td>\n",
       "      <td>NaN</td>\n",
       "    </tr>\n",
       "    <tr>\n",
       "      <th>1</th>\n",
       "      <td>10/03/2004</td>\n",
       "      <td>19.00.00</td>\n",
       "      <td>2.0</td>\n",
       "      <td>1292.0</td>\n",
       "      <td>112.0</td>\n",
       "      <td>9.4</td>\n",
       "      <td>955.0</td>\n",
       "      <td>103.0</td>\n",
       "      <td>1174.0</td>\n",
       "      <td>92.0</td>\n",
       "      <td>1559.0</td>\n",
       "      <td>972.0</td>\n",
       "      <td>13.3</td>\n",
       "      <td>47.7</td>\n",
       "      <td>0.7255</td>\n",
       "      <td>NaN</td>\n",
       "      <td>NaN</td>\n",
       "    </tr>\n",
       "    <tr>\n",
       "      <th>2</th>\n",
       "      <td>10/03/2004</td>\n",
       "      <td>20.00.00</td>\n",
       "      <td>2.2</td>\n",
       "      <td>1402.0</td>\n",
       "      <td>88.0</td>\n",
       "      <td>9.0</td>\n",
       "      <td>939.0</td>\n",
       "      <td>131.0</td>\n",
       "      <td>1140.0</td>\n",
       "      <td>114.0</td>\n",
       "      <td>1555.0</td>\n",
       "      <td>1074.0</td>\n",
       "      <td>11.9</td>\n",
       "      <td>54.0</td>\n",
       "      <td>0.7502</td>\n",
       "      <td>NaN</td>\n",
       "      <td>NaN</td>\n",
       "    </tr>\n",
       "    <tr>\n",
       "      <th>3</th>\n",
       "      <td>10/03/2004</td>\n",
       "      <td>21.00.00</td>\n",
       "      <td>2.2</td>\n",
       "      <td>1376.0</td>\n",
       "      <td>80.0</td>\n",
       "      <td>9.2</td>\n",
       "      <td>948.0</td>\n",
       "      <td>172.0</td>\n",
       "      <td>1092.0</td>\n",
       "      <td>122.0</td>\n",
       "      <td>1584.0</td>\n",
       "      <td>1203.0</td>\n",
       "      <td>11.0</td>\n",
       "      <td>60.0</td>\n",
       "      <td>0.7867</td>\n",
       "      <td>NaN</td>\n",
       "      <td>NaN</td>\n",
       "    </tr>\n",
       "    <tr>\n",
       "      <th>4</th>\n",
       "      <td>10/03/2004</td>\n",
       "      <td>22.00.00</td>\n",
       "      <td>1.6</td>\n",
       "      <td>1272.0</td>\n",
       "      <td>51.0</td>\n",
       "      <td>6.5</td>\n",
       "      <td>836.0</td>\n",
       "      <td>131.0</td>\n",
       "      <td>1205.0</td>\n",
       "      <td>116.0</td>\n",
       "      <td>1490.0</td>\n",
       "      <td>1110.0</td>\n",
       "      <td>11.2</td>\n",
       "      <td>59.6</td>\n",
       "      <td>0.7888</td>\n",
       "      <td>NaN</td>\n",
       "      <td>NaN</td>\n",
       "    </tr>\n",
       "  </tbody>\n",
       "</table>\n",
       "</div>"
      ],
      "text/plain": [
       "         Date      Time  CO(GT)  PT08.S1(CO)  NMHC(GT)  C6H6(GT)  \\\n",
       "0  10/03/2004  18.00.00     2.6       1360.0     150.0      11.9   \n",
       "1  10/03/2004  19.00.00     2.0       1292.0     112.0       9.4   \n",
       "2  10/03/2004  20.00.00     2.2       1402.0      88.0       9.0   \n",
       "3  10/03/2004  21.00.00     2.2       1376.0      80.0       9.2   \n",
       "4  10/03/2004  22.00.00     1.6       1272.0      51.0       6.5   \n",
       "\n",
       "   PT08.S2(NMHC)  NOx(GT)  PT08.S3(NOx)  NO2(GT)  PT08.S4(NO2)  PT08.S5(O3)  \\\n",
       "0         1046.0    166.0        1056.0    113.0        1692.0       1268.0   \n",
       "1          955.0    103.0        1174.0     92.0        1559.0        972.0   \n",
       "2          939.0    131.0        1140.0    114.0        1555.0       1074.0   \n",
       "3          948.0    172.0        1092.0    122.0        1584.0       1203.0   \n",
       "4          836.0    131.0        1205.0    116.0        1490.0       1110.0   \n",
       "\n",
       "      T    RH      AH  Unnamed: 15  Unnamed: 16  \n",
       "0  13.6  48.9  0.7578          NaN          NaN  \n",
       "1  13.3  47.7  0.7255          NaN          NaN  \n",
       "2  11.9  54.0  0.7502          NaN          NaN  \n",
       "3  11.0  60.0  0.7867          NaN          NaN  \n",
       "4  11.2  59.6  0.7888          NaN          NaN  "
      ]
     },
     "execution_count": 4,
     "metadata": {},
     "output_type": "execute_result"
    }
   ],
   "source": [
    "raw_df.head()"
   ]
  },
  {
   "cell_type": "code",
   "execution_count": 5,
   "metadata": {
    "collapsed": false
   },
   "outputs": [
    {
     "name": "stdout",
     "output_type": "stream",
     "text": [
      "Index(['Date', 'Time', 'CO(GT)', 'PT08.S1(CO)', 'NMHC(GT)', 'C6H6(GT)',\n",
      "       'PT08.S2(NMHC)', 'NOx(GT)', 'PT08.S3(NOx)', 'NO2(GT)', 'PT08.S4(NO2)',\n",
      "       'PT08.S5(O3)', 'T', 'RH', 'AH', 'Unnamed: 15', 'Unnamed: 16'],\n",
      "      dtype='object')\n"
     ]
    }
   ],
   "source": [
    "print(raw_df.columns)"
   ]
  },
  {
   "cell_type": "markdown",
   "metadata": {},
   "source": [
    "# Subset Test Dataset\n",
    "Every column in the dataset can be analyzed as a timeseries column.\n",
    "\n",
    "For now just do a timeseries analysis of timestamp to CO(GT) concenteration\n",
    "\n",
    "Missing values are labeled with -200"
   ]
  },
  {
   "cell_type": "code",
   "execution_count": 6,
   "metadata": {
    "collapsed": false
   },
   "outputs": [
    {
     "name": "stdout",
     "output_type": "stream",
     "text": [
      "10/03/2004T18.00.00\n",
      "Dropping rows where the CO_GT is missing\n"
     ]
    },
    {
     "data": {
      "text/html": [
       "<div>\n",
       "<style scoped>\n",
       "    .dataframe tbody tr th:only-of-type {\n",
       "        vertical-align: middle;\n",
       "    }\n",
       "\n",
       "    .dataframe tbody tr th {\n",
       "        vertical-align: top;\n",
       "    }\n",
       "\n",
       "    .dataframe thead th {\n",
       "        text-align: right;\n",
       "    }\n",
       "</style>\n",
       "<table border=\"1\" class=\"dataframe\">\n",
       "  <thead>\n",
       "    <tr style=\"text-align: right;\">\n",
       "      <th></th>\n",
       "      <th>CO_GT</th>\n",
       "    </tr>\n",
       "  </thead>\n",
       "  <tbody>\n",
       "    <tr>\n",
       "      <th>count</th>\n",
       "      <td>7674.000000</td>\n",
       "    </tr>\n",
       "    <tr>\n",
       "      <th>mean</th>\n",
       "      <td>2.152750</td>\n",
       "    </tr>\n",
       "    <tr>\n",
       "      <th>std</th>\n",
       "      <td>1.453252</td>\n",
       "    </tr>\n",
       "    <tr>\n",
       "      <th>min</th>\n",
       "      <td>0.100000</td>\n",
       "    </tr>\n",
       "    <tr>\n",
       "      <th>25%</th>\n",
       "      <td>1.100000</td>\n",
       "    </tr>\n",
       "    <tr>\n",
       "      <th>50%</th>\n",
       "      <td>1.800000</td>\n",
       "    </tr>\n",
       "    <tr>\n",
       "      <th>75%</th>\n",
       "      <td>2.900000</td>\n",
       "    </tr>\n",
       "    <tr>\n",
       "      <th>max</th>\n",
       "      <td>11.900000</td>\n",
       "    </tr>\n",
       "  </tbody>\n",
       "</table>\n",
       "</div>"
      ],
      "text/plain": [
       "             CO_GT\n",
       "count  7674.000000\n",
       "mean      2.152750\n",
       "std       1.453252\n",
       "min       0.100000\n",
       "25%       1.100000\n",
       "50%       1.800000\n",
       "75%       2.900000\n",
       "max      11.900000"
      ]
     },
     "metadata": {},
     "output_type": "display_data"
    },
    {
     "data": {
      "text/html": [
       "<div>\n",
       "<style scoped>\n",
       "    .dataframe tbody tr th:only-of-type {\n",
       "        vertical-align: middle;\n",
       "    }\n",
       "\n",
       "    .dataframe tbody tr th {\n",
       "        vertical-align: top;\n",
       "    }\n",
       "\n",
       "    .dataframe thead th {\n",
       "        text-align: right;\n",
       "    }\n",
       "</style>\n",
       "<table border=\"1\" class=\"dataframe\">\n",
       "  <thead>\n",
       "    <tr style=\"text-align: right;\">\n",
       "      <th></th>\n",
       "      <th>CO_GT</th>\n",
       "    </tr>\n",
       "    <tr>\n",
       "      <th>timestamp</th>\n",
       "      <th></th>\n",
       "    </tr>\n",
       "  </thead>\n",
       "  <tbody>\n",
       "    <tr>\n",
       "      <th>2004-01-04 00:00:00</th>\n",
       "      <td>1.6</td>\n",
       "    </tr>\n",
       "    <tr>\n",
       "      <th>2004-01-04 01:00:00</th>\n",
       "      <td>1.2</td>\n",
       "    </tr>\n",
       "    <tr>\n",
       "      <th>2004-01-04 02:00:00</th>\n",
       "      <td>1.1</td>\n",
       "    </tr>\n",
       "    <tr>\n",
       "      <th>2004-01-04 03:00:00</th>\n",
       "      <td>0.9</td>\n",
       "    </tr>\n",
       "    <tr>\n",
       "      <th>2004-01-04 04:00:00</th>\n",
       "      <td>0.7</td>\n",
       "    </tr>\n",
       "  </tbody>\n",
       "</table>\n",
       "</div>"
      ],
      "text/plain": [
       "                     CO_GT\n",
       "timestamp                 \n",
       "2004-01-04 00:00:00    1.6\n",
       "2004-01-04 01:00:00    1.2\n",
       "2004-01-04 02:00:00    1.1\n",
       "2004-01-04 03:00:00    0.9\n",
       "2004-01-04 04:00:00    0.7"
      ]
     },
     "metadata": {},
     "output_type": "display_data"
    }
   ],
   "source": [
    "# Limit to the timestamp column and the CO(GT) concentration\n",
    "data_df = pd.DataFrame.copy(raw_df[['Date', 'Time', 'CO(GT)']])\n",
    "\n",
    "# Cleanup the timestamp\n",
    "data_df = data_df[~data_df.Date.isnull()]\n",
    "data_df['timestamp'] = data_df['Date'] + 'T' + data_df['Time']\n",
    "print(data_df.timestamp.iloc[0])\n",
    "data_df['timestamp'] = pd.to_datetime(data_df['timestamp'].str.replace('/', '-').str.replace('.', ':'))\n",
    "data_df = data_df.rename(columns={'CO(GT)': 'CO_GT'})\n",
    "print('Dropping rows where the CO_GT is missing')\n",
    "data_df = data_df[data_df.CO_GT >= 0]\n",
    "data_df = data_df.set_index('timestamp')\n",
    "data_df.drop(labels=['Date', 'Time'], axis=1, inplace=True)\n",
    "data_df.sort_index(inplace=True)\n",
    "display(data_df.describe())\n",
    "display(data_df.head())"
   ]
  },
  {
   "cell_type": "markdown",
   "metadata": {},
   "source": [
    "# Visualizations"
   ]
  },
  {
   "cell_type": "code",
   "execution_count": 7,
   "metadata": {
    "collapsed": false
   },
   "outputs": [
    {
     "data": {
      "image/png": "[encoded data removed]",
      "text/plain": [
       "<matplotlib.figure.Figure at 0x7f47589d4e10>"
      ]
     },
     "metadata": {},
     "output_type": "display_data"
    }
   ],
   "source": [
    "from matplotlib import pyplot\n",
    "data_df.plot(figsize=(10, 8))\n",
    "pyplot.show()"
   ]
  },
  {
   "cell_type": "code",
   "execution_count": 8,
   "metadata": {
    "collapsed": false
   },
   "outputs": [
    {
     "data": {
      "image/png": "[encoded data removed]",
      "text/plain": [
       "<matplotlib.figure.Figure at 0x7f47588822e8>"
      ]
     },
     "metadata": {},
     "output_type": "display_data"
    }
   ],
   "source": [
    "from matplotlib import pyplot\n",
    "from pandas.plotting import autocorrelation_plot\n",
    "\n",
    "plt.figure(figsize=(10, 8))\n",
    "autocorrelation_plot(data_df)\n",
    "plt.axis([0,100,-0.25,0.5])  # Manually zoom into figure\n",
    "pyplot.show()"
   ]
  },
  {
   "cell_type": "markdown",
   "metadata": {
    "collapsed": true
   },
   "source": [
    "# Modeling"
   ]
  },
  {
   "cell_type": "code",
   "execution_count": 10,
   "metadata": {
    "collapsed": false
   },
   "outputs": [
    {
     "name": "stderr",
     "output_type": "stream",
     "text": [
      "/home/napoleon/.virtualenvs/arima-poc/lib/python3.5/site-packages/statsmodels/tsa/kalmanf/kalmanfilter.py:646: FutureWarning: Conversion of the second argument of issubdtype from `float` to `np.floating` is deprecated. In future, it will be treated as `np.float64 == np.dtype(float).type`.\n",
      "  if issubdtype(paramsdtype, float):\n",
      "/home/napoleon/.virtualenvs/arima-poc/lib/python3.5/site-packages/statsmodels/tsa/kalmanf/kalmanfilter.py:650: FutureWarning: Conversion of the second argument of issubdtype from `complex` to `np.complexfloating` is deprecated. In future, it will be treated as `np.complex128 == np.dtype(complex).type`.\n",
      "  elif issubdtype(paramsdtype, complex):\n"
     ]
    },
    {
     "name": "stdout",
     "output_type": "stream",
     "text": [
      "                             ARIMA Model Results                              \n",
      "==============================================================================\n",
      "Dep. Variable:                D.CO_GT   No. Observations:                 7673\n",
      "Model:                ARIMA(15, 1, 0)   Log Likelihood               -8991.679\n",
      "Method:                       css-mle   S.D. of innovations              0.781\n",
      "Date:                Thu, 25 Jan 2018   AIC                          18017.359\n",
      "Time:                        06:10:02   BIC                          18135.432\n",
      "Sample:                    01-04-2004   HQIC                         18057.858\n",
      "                         - 12-03-2005                                         \n",
      "==================================================================================\n",
      "                     coef    std err          z      P>|z|      [0.025      0.975]\n",
      "----------------------------------------------------------------------------------\n",
      "const             -0.0002      0.004     -0.044      0.965      -0.008       0.007\n",
      "ar.L1.D.CO_GT      0.1389      0.011     12.186      0.000       0.117       0.161\n",
      "ar.L2.D.CO_GT     -0.2146      0.011    -18.661      0.000      -0.237      -0.192\n",
      "ar.L3.D.CO_GT     -0.1665      0.012    -14.181      0.000      -0.189      -0.143\n",
      "ar.L4.D.CO_GT     -0.1673      0.012    -14.070      0.000      -0.191      -0.144\n",
      "ar.L5.D.CO_GT     -0.1114      0.012     -9.260      0.000      -0.135      -0.088\n",
      "ar.L6.D.CO_GT     -0.1500      0.012    -12.421      0.000      -0.174      -0.126\n",
      "ar.L7.D.CO_GT     -0.1203      0.012     -9.919      0.000      -0.144      -0.097\n",
      "ar.L8.D.CO_GT     -0.1273      0.012    -10.498      0.000      -0.151      -0.103\n",
      "ar.L9.D.CO_GT     -0.1139      0.012     -9.388      0.000      -0.138      -0.090\n",
      "ar.L10.D.CO_GT    -0.0574      0.012     -4.750      0.000      -0.081      -0.034\n",
      "ar.L11.D.CO_GT    -0.0537      0.012     -4.462      0.000      -0.077      -0.030\n",
      "ar.L12.D.CO_GT    -0.0183      0.012     -1.539      0.124      -0.042       0.005\n",
      "ar.L13.D.CO_GT    -0.0580      0.012     -4.937      0.000      -0.081      -0.035\n",
      "ar.L14.D.CO_GT    -0.0569      0.012     -4.943      0.000      -0.079      -0.034\n",
      "ar.L15.D.CO_GT    -0.0497      0.011     -4.355      0.000      -0.072      -0.027\n",
      "                                    Roots                                     \n",
      "==============================================================================\n",
      "                  Real           Imaginary           Modulus         Frequency\n",
      "------------------------------------------------------------------------------\n",
      "AR.1             1.0683           -0.4083j            1.1436           -0.0581\n",
      "AR.2             1.0683           +0.4083j            1.1436            0.0581\n",
      "AR.3             0.9122           -0.7096j            1.1557           -0.1052\n",
      "AR.4             0.9122           +0.7096j            1.1557            0.1052\n",
      "AR.5             0.5177           -1.0100j            1.1349           -0.1746\n",
      "AR.6             0.5177           +1.0100j            1.1349            0.1746\n",
      "AR.7             0.0609           -1.2130j            1.2145           -0.2420\n",
      "AR.8             0.0609           +1.2130j            1.2145            0.2420\n",
      "AR.9            -0.4423           -1.1986j            1.2776           -0.3063\n",
      "AR.10           -0.4423           +1.1986j            1.2776            0.3063\n",
      "AR.11           -1.2609           -0.0000j            1.2609           -0.5000\n",
      "AR.12           -1.1406           -0.5868j            1.2827           -0.4244\n",
      "AR.13           -1.1406           +0.5868j            1.2827            0.4244\n",
      "AR.14           -0.9177           -0.9735j            1.3379           -0.3703\n",
      "AR.15           -0.9177           +0.9735j            1.3379            0.3703\n",
      "------------------------------------------------------------------------------\n"
     ]
    },
    {
     "name": "stderr",
     "output_type": "stream",
     "text": [
      "/home/napoleon/.virtualenvs/arima-poc/lib/python3.5/site-packages/statsmodels/tsa/kalmanf/kalmanfilter.py:577: FutureWarning: Conversion of the second argument of issubdtype from `float` to `np.floating` is deprecated. In future, it will be treated as `np.float64 == np.dtype(float).type`.\n",
      "  if issubdtype(paramsdtype, float):\n"
     ]
    },
    {
     "data": {
      "image/png": "[encoded data removed]",
      "text/plain": [
       "<matplotlib.figure.Figure at 0x7f4754d83f28>"
      ]
     },
     "metadata": {},
     "output_type": "display_data"
    },
    {
     "data": {
      "image/png": "[encoded data removed]",
      "text/plain": [
       "<matplotlib.figure.Figure at 0x7f4754cf9400>"
      ]
     },
     "metadata": {},
     "output_type": "display_data"
    },
    {
     "name": "stdout",
     "output_type": "stream",
     "text": [
      "                 0\n",
      "count  7673.000000\n",
      "mean      0.000105\n",
      "std       0.781129\n",
      "min      -4.799157\n",
      "25%      -0.398195\n",
      "50%      -0.056354\n",
      "75%       0.323132\n",
      "max       5.552966\n"
     ]
    }
   ],
   "source": [
    "from statsmodels.tsa.arima_model import ARIMA\n",
    "\n",
    "# fit model\n",
    "lag = 15  # Based on reading the above autocorrelation plot\n",
    "model = ARIMA(data_df, order=(lag,1,0))\n",
    "model_fit = model.fit(disp=0)\n",
    "print(model_fit.summary())\n",
    "# plot residual errors\n",
    "residuals = pd.DataFrame(model_fit.resid)\n",
    "residuals.plot()\n",
    "pyplot.show()\n",
    "residuals.plot(kind='kde')\n",
    "pyplot.show()\n",
    "print(residuals.describe())"
   ]
  },
  {
   "cell_type": "markdown",
   "metadata": {},
   "source": [
    "Above model looks fine.  Mean of the residuals is really close to 0 and the coefficients are mostly significant."
   ]
  },
  {
   "cell_type": "markdown",
   "metadata": {},
   "source": [
    "# Rolling ARIMA with predictions\n",
    "It takes a long time to model every n with the n-1 data, so just split into a test/train"
   ]
  },
  {
   "cell_type": "code",
   "execution_count": null,
   "metadata": {
    "collapsed": false
   },
   "outputs": [
    {
     "name": "stdout",
     "output_type": "stream",
     "text": [
      "Using first 7597 obs for training and next 77 for testing\n"
     ]
    },
    {
     "name": "stderr",
     "output_type": "stream",
     "text": [
      "/home/napoleon/.virtualenvs/arima-poc/lib/python3.5/site-packages/statsmodels/tsa/kalmanf/kalmanfilter.py:646: FutureWarning: Conversion of the second argument of issubdtype from `float` to `np.floating` is deprecated. In future, it will be treated as `np.float64 == np.dtype(float).type`.\n",
      "  if issubdtype(paramsdtype, float):\n",
      "/home/napoleon/.virtualenvs/arima-poc/lib/python3.5/site-packages/statsmodels/tsa/kalmanf/kalmanfilter.py:650: FutureWarning: Conversion of the second argument of issubdtype from `complex` to `np.complexfloating` is deprecated. In future, it will be treated as `np.complex128 == np.dtype(complex).type`.\n",
      "  elif issubdtype(paramsdtype, complex):\n",
      "/home/napoleon/.virtualenvs/arima-poc/lib/python3.5/site-packages/statsmodels/tsa/kalmanf/kalmanfilter.py:577: FutureWarning: Conversion of the second argument of issubdtype from `float` to `np.floating` is deprecated. In future, it will be treated as `np.float64 == np.dtype(float).type`.\n",
      "  if issubdtype(paramsdtype, float):\n"
     ]
    },
    {
     "name": "stdout",
     "output_type": "stream",
     "text": [
      "0: predicted=0.565205, expected=1.500000\n",
      "1: predicted=1.909334, expected=2.200000\n",
      "2: predicted=2.354596, expected=1.700000\n",
      "3: predicted=1.594595, expected=1.100000\n",
      "4: predicted=0.869500, expected=1.300000\n",
      "5: predicted=1.489449, expected=1.500000\n",
      "6: predicted=1.652464, expected=3.400000\n",
      "7: predicted=3.759603, expected=3.800000\n",
      "8: predicted=3.549169, expected=2.800000\n",
      "9: predicted=2.165571, expected=0.800000\n",
      "10: predicted=0.287569, expected=0.500000\n",
      "11: predicted=0.753142, expected=1.200000\n",
      "12: predicted=1.670999, expected=2.400000\n",
      "13: predicted=2.706988, expected=2.100000\n",
      "14: predicted=1.857697, expected=1.100000\n",
      "15: predicted=0.848306, expected=1.000000\n",
      "16: predicted=1.245911, expected=1.400000\n",
      "17: predicted=1.778048, expected=1.800000\n",
      "18: predicted=1.994863, expected=3.800000\n",
      "19: predicted=3.929088, expected=4.100000\n",
      "20: predicted=3.547092, expected=4.400000\n",
      "21: predicted=3.919228, expected=3.500000\n",
      "22: predicted=3.045190, expected=3.500000\n",
      "23: predicted=3.503890, expected=3.800000\n",
      "24: predicted=3.648020, expected=3.100000\n",
      "25: predicted=2.643201, expected=3.400000\n",
      "26: predicted=3.176508, expected=3.300000\n",
      "27: predicted=3.093224, expected=3.400000\n",
      "28: predicted=3.436620, expected=4.700000\n",
      "29: predicted=4.837901, expected=5.700000\n",
      "30: predicted=5.589089, expected=5.600000\n",
      "31: predicted=5.022028, expected=5.900000\n",
      "32: predicted=5.495206, expected=3.600000\n"
     ]
    }
   ],
   "source": [
    "from statsmodels.tsa.arima_model import ARIMA\n",
    "from sklearn.metrics import mean_squared_error\n",
    " \n",
    "# This isn't quite right with my dataset because the observations are not always in a regular cadence\n",
    "X = data_df.CO_GT.values\n",
    "size = int(len(X) * 0.99)  # Use the first chunk for training\n",
    "train, test = X[0:size], X[size:len(X)]\n",
    "print(\"Using first {trainlen} obs for training and next {testlen} for testing\".format(\n",
    "        trainlen=len(train), testlen=len(test)))\n",
    "rolling_train = [x for x in train]\n",
    "predictions = list()\n",
    "for i, t in enumerate(range(len(test))):\n",
    "    model = ARIMA(rolling_train, order=(lag,1,0))\n",
    "    model_fit = model.fit(disp=0)\n",
    "    output = model_fit.forecast()\n",
    "    yhat = output[0]\n",
    "    predictions.append(yhat)\n",
    "    obs = test[t]\n",
    "    rolling_train.append(obs)\n",
    "    print('%i: predicted=%f, expected=%f' % (i, yhat, obs))\n",
    "error = mean_squared_error(test, predictions)\n",
    "print('Test MSE: %.3f' % error)\n",
    "# plot\n",
    "pyplot.plot(test)\n",
    "pyplot.plot(predictions, color='red')\n",
    "pyplot.show()"
   ]
  },
  {
   "cell_type": "code",
   "execution_count": null,
   "metadata": {
    "collapsed": true
   },
   "outputs": [],
   "source": []
  }
 ],
 "metadata": {
  "kernelspec": {
   "display_name": "arima-poc",
   "language": "python",
   "name": "arima-poc"
  },
  "language_info": {
   "codemirror_mode": {
    "name": "ipython",
    "version": 3
   },
   "file_extension": ".py",
   "mimetype": "text/x-python",
   "name": "python",
   "nbconvert_exporter": "python",
   "pygments_lexer": "ipython3",
   "version": "3.5.2"
  }
 },
 "nbformat": 4,
 "nbformat_minor": 2
}
