{
 "cells": [
  {
   "cell_type": "markdown",
   "metadata": {},
   "source": [
    "# POC work on statsmodels logistic regression\n",
    "\n",
    "POC on statsmodels Logistic Regression including\n",
    "1. Training the model\n",
    "2. Pulling predictions\n",
    "3. Basic evaluation metrics\n",
    "4. Wrapping Logistic Regression statsmodel into an sklearn Pipeline"
   ]
  },
  {
   "cell_type": "code",
   "execution_count": 1,
   "metadata": {},
   "outputs": [],
   "source": [
    "import statsmodels.api as sm\n",
    "import pandas as pd\n",
    "import numpy as np\n",
    "import seaborn as sns\n",
    "import scipy\n",
    "\n",
    "from sklearn import datasets\n",
    "from sklearn.model_selection import train_test_split\n",
    "from sklearn.base import BaseEstimator, RegressorMixin\n",
    "from sklearn.pipeline import Pipeline\n",
    "\n",
    "from sklearn.metrics import (\n",
    "    roc_auc_score, \n",
    "    recall_score, \n",
    "    accuracy_score, \n",
    "    precision_score,\n",
    "    confusion_matrix,\n",
    "    roc_curve\n",
    ")\n",
    "\n",
    "# To help when Jupyter Notebook autocomplete is really slow\n",
    "%config Completer.use_jedi = False"
   ]
  },
  {
   "cell_type": "code",
   "execution_count": 2,
   "metadata": {},
   "outputs": [
    {
     "data": {
      "text/html": [
       "<div>\n",
       "<style scoped>\n",
       "    .dataframe tbody tr th:only-of-type {\n",
       "        vertical-align: middle;\n",
       "    }\n",
       "\n",
       "    .dataframe tbody tr th {\n",
       "        vertical-align: top;\n",
       "    }\n",
       "\n",
       "    .dataframe thead th {\n",
       "        text-align: right;\n",
       "    }\n",
       "</style>\n",
       "<table border=\"1\" class=\"dataframe\">\n",
       "  <thead>\n",
       "    <tr style=\"text-align: right;\">\n",
       "      <th></th>\n",
       "      <th>f0</th>\n",
       "      <th>f1</th>\n",
       "      <th>f2</th>\n",
       "      <th>target_class</th>\n",
       "      <th>f3</th>\n",
       "    </tr>\n",
       "  </thead>\n",
       "  <tbody>\n",
       "    <tr>\n",
       "      <th>0</th>\n",
       "      <td>0.563966</td>\n",
       "      <td>0.400907</td>\n",
       "      <td>0.805757</td>\n",
       "      <td>True</td>\n",
       "      <td>0.752068</td>\n",
       "    </tr>\n",
       "    <tr>\n",
       "      <th>1</th>\n",
       "      <td>0.433904</td>\n",
       "      <td>0.983748</td>\n",
       "      <td>0.786890</td>\n",
       "      <td>True</td>\n",
       "      <td>1.883903</td>\n",
       "    </tr>\n",
       "    <tr>\n",
       "      <th>2</th>\n",
       "      <td>0.724375</td>\n",
       "      <td>0.433893</td>\n",
       "      <td>0.689766</td>\n",
       "      <td>True</td>\n",
       "      <td>0.638651</td>\n",
       "    </tr>\n",
       "    <tr>\n",
       "      <th>3</th>\n",
       "      <td>0.922347</td>\n",
       "      <td>0.695168</td>\n",
       "      <td>0.379019</td>\n",
       "      <td>True</td>\n",
       "      <td>1.544059</td>\n",
       "    </tr>\n",
       "    <tr>\n",
       "      <th>4</th>\n",
       "      <td>0.531899</td>\n",
       "      <td>0.343163</td>\n",
       "      <td>0.749126</td>\n",
       "      <td>True</td>\n",
       "      <td>-0.456940</td>\n",
       "    </tr>\n",
       "  </tbody>\n",
       "</table>\n",
       "</div>"
      ],
      "text/plain": [
       "         f0        f1        f2  target_class        f3\n",
       "0  0.563966  0.400907  0.805757          True  0.752068\n",
       "1  0.433904  0.983748  0.786890          True  1.883903\n",
       "2  0.724375  0.433893  0.689766          True  0.638651\n",
       "3  0.922347  0.695168  0.379019          True  1.544059\n",
       "4  0.531899  0.343163  0.749126          True -0.456940"
      ]
     },
     "execution_count": 2,
     "metadata": {},
     "output_type": "execute_result"
    }
   ],
   "source": [
    "obs = 100000\n",
    "population_df = (\n",
    "    # Make columns of noise\n",
    "    pd.DataFrame(np.random.rand(obs, 3), columns=[f\"f{i}\" for i in range(3)])\n",
    "    .assign(target_class=np.random.rand(obs, 1) > 0.5)\n",
    "    # Make columns that can help predict the target\n",
    "    .assign(f3=lambda p_df: p_df.target_class.apply(lambda tc: tc + np.random.standard_normal()))\n",
    ")\n",
    "population_df.head()"
   ]
  },
  {
   "cell_type": "code",
   "execution_count": 3,
   "metadata": {},
   "outputs": [],
   "source": [
    "X_train, X_test, y_train, y_test = train_test_split(\n",
    "    population_df.drop(columns=['target_class']), \n",
    "    population_df.target_class, \n",
    "    test_size=0.2, random_state=42)"
   ]
  },
  {
   "cell_type": "code",
   "execution_count": 4,
   "metadata": {},
   "outputs": [
    {
     "name": "stdout",
     "output_type": "stream",
     "text": [
      "Optimization terminated successfully.\n",
      "         Current function value: 0.585264\n",
      "         Iterations 5\n"
     ]
    }
   ],
   "source": [
    "# By default there is no intercept but can be added into the X_train as a column of 1's\n",
    "logit_mod = sm.Logit(y_train, X_train)\n",
    "logit_mod_fit = logit_mod.fit()"
   ]
  },
  {
   "cell_type": "code",
   "execution_count": 5,
   "metadata": {},
   "outputs": [
    {
     "data": {
      "text/html": [
       "<table class=\"simpletable\">\n",
       "<caption>Logit Regression Results</caption>\n",
       "<tr>\n",
       "  <th>Dep. Variable:</th>     <td>target_class</td>   <th>  No. Observations:  </th>  <td> 80000</td> \n",
       "</tr>\n",
       "<tr>\n",
       "  <th>Model:</th>                 <td>Logit</td>      <th>  Df Residuals:      </th>  <td> 79996</td> \n",
       "</tr>\n",
       "<tr>\n",
       "  <th>Method:</th>                 <td>MLE</td>       <th>  Df Model:          </th>  <td>     3</td> \n",
       "</tr>\n",
       "<tr>\n",
       "  <th>Date:</th>            <td>Sat, 26 Oct 2019</td> <th>  Pseudo R-squ.:     </th>  <td>0.1556</td> \n",
       "</tr>\n",
       "<tr>\n",
       "  <th>Time:</th>                <td>11:56:00</td>     <th>  Log-Likelihood:    </th> <td> -46821.</td>\n",
       "</tr>\n",
       "<tr>\n",
       "  <th>converged:</th>             <td>True</td>       <th>  LL-Null:           </th> <td> -55452.</td>\n",
       "</tr>\n",
       "<tr>\n",
       "  <th>Covariance Type:</th>     <td>nonrobust</td>    <th>  LLR p-value:       </th>  <td> 0.000</td> \n",
       "</tr>\n",
       "</table>\n",
       "<table class=\"simpletable\">\n",
       "<tr>\n",
       "   <td></td>     <th>coef</th>     <th>std err</th>      <th>z</th>      <th>P>|z|</th>  <th>[0.025</th>    <th>0.975]</th>  \n",
       "</tr>\n",
       "<tr>\n",
       "  <th>f0</th> <td>   -0.2539</td> <td>    0.023</td> <td>  -11.022</td> <td> 0.000</td> <td>   -0.299</td> <td>   -0.209</td>\n",
       "</tr>\n",
       "<tr>\n",
       "  <th>f1</th> <td>   -0.2949</td> <td>    0.023</td> <td>  -12.829</td> <td> 0.000</td> <td>   -0.340</td> <td>   -0.250</td>\n",
       "</tr>\n",
       "<tr>\n",
       "  <th>f2</th> <td>   -0.3179</td> <td>    0.023</td> <td>  -13.860</td> <td> 0.000</td> <td>   -0.363</td> <td>   -0.273</td>\n",
       "</tr>\n",
       "<tr>\n",
       "  <th>f3</th> <td>    0.9657</td> <td>    0.009</td> <td>  113.243</td> <td> 0.000</td> <td>    0.949</td> <td>    0.982</td>\n",
       "</tr>\n",
       "</table>"
      ],
      "text/plain": [
       "<class 'statsmodels.iolib.summary.Summary'>\n",
       "\"\"\"\n",
       "                           Logit Regression Results                           \n",
       "==============================================================================\n",
       "Dep. Variable:           target_class   No. Observations:                80000\n",
       "Model:                          Logit   Df Residuals:                    79996\n",
       "Method:                           MLE   Df Model:                            3\n",
       "Date:                Sat, 26 Oct 2019   Pseudo R-squ.:                  0.1556\n",
       "Time:                        11:56:00   Log-Likelihood:                -46821.\n",
       "converged:                       True   LL-Null:                       -55452.\n",
       "Covariance Type:            nonrobust   LLR p-value:                     0.000\n",
       "==============================================================================\n",
       "                 coef    std err          z      P>|z|      [0.025      0.975]\n",
       "------------------------------------------------------------------------------\n",
       "f0            -0.2539      0.023    -11.022      0.000      -0.299      -0.209\n",
       "f1            -0.2949      0.023    -12.829      0.000      -0.340      -0.250\n",
       "f2            -0.3179      0.023    -13.860      0.000      -0.363      -0.273\n",
       "f3             0.9657      0.009    113.243      0.000       0.949       0.982\n",
       "==============================================================================\n",
       "\"\"\""
      ]
     },
     "execution_count": 5,
     "metadata": {},
     "output_type": "execute_result"
    }
   ],
   "source": [
    "logit_mod_fit.summary()"
   ]
  },
  {
   "cell_type": "code",
   "execution_count": 6,
   "metadata": {},
   "outputs": [],
   "source": [
    "# Be default these are the probability of target_class == True\n",
    "# For not just use the standard cutoff of 0.5\n",
    "predictions = logit_mod_fit.predict(X_test) > 0.5"
   ]
  },
  {
   "cell_type": "code",
   "execution_count": 7,
   "metadata": {},
   "outputs": [
    {
     "name": "stdout",
     "output_type": "stream",
     "text": [
      "recall: 0.7117476794091226\n",
      "accuracy: 0.6922\n",
      "precision: 0.6857390133666699\n",
      "ROC: 0.6921627887076672\n"
     ]
    }
   ],
   "source": [
    "print(f\"recall: {recall_score(y_test, predictions)}\")\n",
    "print(f\"accuracy: {accuracy_score(y_test, predictions)}\")\n",
    "print(f\"precision: {precision_score(y_test, predictions)}\")\n",
    "print(f\"ROC: {roc_auc_score(y_test, predictions)}\")"
   ]
  },
  {
   "cell_type": "code",
   "execution_count": 8,
   "metadata": {},
   "outputs": [
    {
     "data": {
      "text/html": [
       "<div>\n",
       "<style scoped>\n",
       "    .dataframe tbody tr th:only-of-type {\n",
       "        vertical-align: middle;\n",
       "    }\n",
       "\n",
       "    .dataframe tbody tr th {\n",
       "        vertical-align: top;\n",
       "    }\n",
       "\n",
       "    .dataframe thead th {\n",
       "        text-align: right;\n",
       "    }\n",
       "</style>\n",
       "<table border=\"1\" class=\"dataframe\">\n",
       "  <thead>\n",
       "    <tr style=\"text-align: right;\">\n",
       "      <th></th>\n",
       "      <th>False</th>\n",
       "      <th>True</th>\n",
       "    </tr>\n",
       "  </thead>\n",
       "  <tbody>\n",
       "    <tr>\n",
       "      <th>False</th>\n",
       "      <td>6713</td>\n",
       "      <td>3268</td>\n",
       "    </tr>\n",
       "    <tr>\n",
       "      <th>True</th>\n",
       "      <td>2888</td>\n",
       "      <td>7131</td>\n",
       "    </tr>\n",
       "  </tbody>\n",
       "</table>\n",
       "</div>"
      ],
      "text/plain": [
       "       False  True \n",
       "False   6713   3268\n",
       "True    2888   7131"
      ]
     },
     "metadata": {},
     "output_type": "display_data"
    }
   ],
   "source": [
    "display(pd.DataFrame(confusion_matrix(y_test, predictions), index=[False, True], columns=[False, True]))"
   ]
  },
  {
   "cell_type": "code",
   "execution_count": 9,
   "metadata": {},
   "outputs": [
    {
     "data": {
      "text/plain": [
       "Text(0.5, 1.0, 'ROC Curve for Logistic Regression model')"
      ]
     },
     "execution_count": 9,
     "metadata": {},
     "output_type": "execute_result"
    },
    {
     "data": {
      "image/png": "[encoded data removed]",
      "text/plain": [
       "<Figure size 432x288 with 1 Axes>"
      ]
     },
     "metadata": {
      "needs_background": "light"
     },
     "output_type": "display_data"
    }
   ],
   "source": [
    "fpr, tpr, _ = roc_curve(y_test, predictions)\n",
    "\n",
    "ax = sns.lineplot(x=fpr, y=tpr)\n",
    "ax.set_title('ROC Curve for Logistic Regression model')"
   ]
  },
  {
   "cell_type": "markdown",
   "metadata": {},
   "source": [
    "# Wrap the Logit predictor in an sklearn Pipeline"
   ]
  },
  {
   "cell_type": "code",
   "execution_count": 10,
   "metadata": {},
   "outputs": [],
   "source": [
    "class SMWrapper(BaseEstimator, RegressorMixin):\n",
    "    \"\"\" A universal sklearn-style wrapper for statsmodels regressors \"\"\"\n",
    "    def __init__(self, model_class, fit_intercept=True):\n",
    "        self.model_class = model_class\n",
    "        self.fit_intercept = fit_intercept\n",
    "    def fit(self, X, y):\n",
    "        if isinstance(X, scipy.sparse.csr.csr_matrix):\n",
    "            X = X.todense()  # statsmodels has trouble with csr_matrix\n",
    "        if self.fit_intercept:\n",
    "            X = sm.add_constant(X)\n",
    "        self.model_ = self.model_class(y, X)\n",
    "        self.results_ = self.model_.fit()\n",
    "    def predict(self, X):\n",
    "        if self.fit_intercept:\n",
    "            X = sm.add_constant(X)\n",
    "        return self.results_.predict(X)"
   ]
  },
  {
   "cell_type": "code",
   "execution_count": 11,
   "metadata": {},
   "outputs": [
    {
     "name": "stdout",
     "output_type": "stream",
     "text": [
      "Optimization terminated successfully.\n",
      "         Current function value: 0.585264\n",
      "         Iterations 5\n"
     ]
    },
    {
     "data": {
      "text/plain": [
       "Pipeline(memory=None,\n",
       "         steps=[('classifier',\n",
       "                 SMWrapper(fit_intercept=False,\n",
       "                           model_class=<class 'statsmodels.discrete.discrete_model.Logit'>))],\n",
       "         verbose=False)"
      ]
     },
     "execution_count": 11,
     "metadata": {},
     "output_type": "execute_result"
    }
   ],
   "source": [
    "pipeline_logit_model = Pipeline(\n",
    "    steps=[\n",
    "        ('classifier', SMWrapper(sm.Logit, fit_intercept=False))\n",
    "    ])\n",
    "\n",
    "pipeline_logit_model.fit(X_train, y_train)"
   ]
  },
  {
   "cell_type": "code",
   "execution_count": 12,
   "metadata": {},
   "outputs": [],
   "source": [
    "pl_predictions = pipeline_logit_model.predict(X_test) > 0.5"
   ]
  },
  {
   "cell_type": "code",
   "execution_count": 13,
   "metadata": {},
   "outputs": [],
   "source": [
    "assert all(pl_predictions == predictions), 'Base predictions without the pipeline should match these predictions'"
   ]
  },
  {
   "cell_type": "code",
   "execution_count": null,
   "metadata": {},
   "outputs": [],
   "source": []
  }
 ],
 "metadata": {
  "kernelspec": {
   "display_name": "Python 3",
   "language": "python",
   "name": "python3"
  },
  "language_info": {
   "codemirror_mode": {
    "name": "ipython",
    "version": 3
   },
   "file_extension": ".py",
   "mimetype": "text/x-python",
   "name": "python",
   "nbconvert_exporter": "python",
   "pygments_lexer": "ipython3",
   "version": "3.7.3"
  }
 },
 "nbformat": 4,
 "nbformat_minor": 2
}
