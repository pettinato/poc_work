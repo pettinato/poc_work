{
 "cells": [
  {
   "cell_type": "markdown",
   "metadata": {},
   "source": [
    "# Investigation into Sklearn Pipelines for Scaling and Model Selection\n",
    "\n",
    "Using http://scikit-learn.org/stable/modules/generated/sklearn.pipeline.Pipeline.html\n",
    "\n",
    "and data https://archive.ics.uci.edu/ml/datasets/APS+Failure+at+Scania+Trucks"
   ]
  },
  {
   "cell_type": "code",
   "execution_count": 1,
   "metadata": {
    "collapsed": false
   },
   "outputs": [
    {
     "name": "stdout",
     "output_type": "stream",
     "text": [
      "env: OMP_NUM_THREADS=2\n"
     ]
    }
   ],
   "source": [
    "import numpy as np\n",
    "import pandas as pd\n",
    "import re\n",
    "import os\n",
    "from pandas.plotting import scatter_matrix\n",
    "\n",
    "get_ipython().magic(u'env OMP_NUM_THREADS=2')\n",
    "\n",
    "from IPython.display import display, HTML\n",
    "\n",
    "import sklearn\n",
    "import sklearn.model_selection\n",
    "import requests\n",
    "import io\n",
    "import random\n",
    "\n",
    "# Set the ransom seed used for the whole program to allow reprocibility\n",
    "np.random.seed(3214412)\n",
    "\n",
    "DEBUG = True # If true, pull a sample of the dataset for development "
   ]
  },
  {
   "cell_type": "code",
   "execution_count": 2,
   "metadata": {
    "collapsed": false
   },
   "outputs": [
    {
     "name": "stdout",
     "output_type": "stream",
     "text": [
      "Loading from local\n"
     ]
    },
    {
     "data": {
      "text/html": [
       "<div>\n",
       "<style scoped>\n",
       "    .dataframe tbody tr th:only-of-type {\n",
       "        vertical-align: middle;\n",
       "    }\n",
       "\n",
       "    .dataframe tbody tr th {\n",
       "        vertical-align: top;\n",
       "    }\n",
       "\n",
       "    .dataframe thead th {\n",
       "        text-align: right;\n",
       "    }\n",
       "</style>\n",
       "<table border=\"1\" class=\"dataframe\">\n",
       "  <thead>\n",
       "    <tr style=\"text-align: right;\">\n",
       "      <th></th>\n",
       "      <th>class</th>\n",
       "      <th>aa_000</th>\n",
       "      <th>ab_000</th>\n",
       "      <th>ac_000</th>\n",
       "      <th>ad_000</th>\n",
       "      <th>ae_000</th>\n",
       "      <th>af_000</th>\n",
       "      <th>ag_000</th>\n",
       "      <th>ag_001</th>\n",
       "      <th>ag_002</th>\n",
       "      <th>...</th>\n",
       "      <th>ee_002</th>\n",
       "      <th>ee_003</th>\n",
       "      <th>ee_004</th>\n",
       "      <th>ee_005</th>\n",
       "      <th>ee_006</th>\n",
       "      <th>ee_007</th>\n",
       "      <th>ee_008</th>\n",
       "      <th>ee_009</th>\n",
       "      <th>ef_000</th>\n",
       "      <th>eg_000</th>\n",
       "    </tr>\n",
       "  </thead>\n",
       "  <tbody>\n",
       "    <tr>\n",
       "      <th>0</th>\n",
       "      <td>neg</td>\n",
       "      <td>76698</td>\n",
       "      <td>NaN</td>\n",
       "      <td>2.130706e+09</td>\n",
       "      <td>280.0</td>\n",
       "      <td>0.0</td>\n",
       "      <td>0.0</td>\n",
       "      <td>0.0</td>\n",
       "      <td>0.0</td>\n",
       "      <td>0.0</td>\n",
       "      <td>...</td>\n",
       "      <td>1240520.0</td>\n",
       "      <td>493384.0</td>\n",
       "      <td>721044.0</td>\n",
       "      <td>469792.0</td>\n",
       "      <td>339156.0</td>\n",
       "      <td>157956.0</td>\n",
       "      <td>73224.0</td>\n",
       "      <td>0.0</td>\n",
       "      <td>0.0</td>\n",
       "      <td>0.0</td>\n",
       "    </tr>\n",
       "    <tr>\n",
       "      <th>1</th>\n",
       "      <td>neg</td>\n",
       "      <td>33058</td>\n",
       "      <td>NaN</td>\n",
       "      <td>0.000000e+00</td>\n",
       "      <td>NaN</td>\n",
       "      <td>0.0</td>\n",
       "      <td>0.0</td>\n",
       "      <td>0.0</td>\n",
       "      <td>0.0</td>\n",
       "      <td>0.0</td>\n",
       "      <td>...</td>\n",
       "      <td>421400.0</td>\n",
       "      <td>178064.0</td>\n",
       "      <td>293306.0</td>\n",
       "      <td>245416.0</td>\n",
       "      <td>133654.0</td>\n",
       "      <td>81140.0</td>\n",
       "      <td>97576.0</td>\n",
       "      <td>1500.0</td>\n",
       "      <td>0.0</td>\n",
       "      <td>0.0</td>\n",
       "    </tr>\n",
       "    <tr>\n",
       "      <th>2</th>\n",
       "      <td>neg</td>\n",
       "      <td>41040</td>\n",
       "      <td>NaN</td>\n",
       "      <td>2.280000e+02</td>\n",
       "      <td>100.0</td>\n",
       "      <td>0.0</td>\n",
       "      <td>0.0</td>\n",
       "      <td>0.0</td>\n",
       "      <td>0.0</td>\n",
       "      <td>0.0</td>\n",
       "      <td>...</td>\n",
       "      <td>277378.0</td>\n",
       "      <td>159812.0</td>\n",
       "      <td>423992.0</td>\n",
       "      <td>409564.0</td>\n",
       "      <td>320746.0</td>\n",
       "      <td>158022.0</td>\n",
       "      <td>95128.0</td>\n",
       "      <td>514.0</td>\n",
       "      <td>0.0</td>\n",
       "      <td>0.0</td>\n",
       "    </tr>\n",
       "    <tr>\n",
       "      <th>3</th>\n",
       "      <td>neg</td>\n",
       "      <td>12</td>\n",
       "      <td>0.0</td>\n",
       "      <td>7.000000e+01</td>\n",
       "      <td>66.0</td>\n",
       "      <td>0.0</td>\n",
       "      <td>10.0</td>\n",
       "      <td>0.0</td>\n",
       "      <td>0.0</td>\n",
       "      <td>0.0</td>\n",
       "      <td>...</td>\n",
       "      <td>240.0</td>\n",
       "      <td>46.0</td>\n",
       "      <td>58.0</td>\n",
       "      <td>44.0</td>\n",
       "      <td>10.0</td>\n",
       "      <td>0.0</td>\n",
       "      <td>0.0</td>\n",
       "      <td>0.0</td>\n",
       "      <td>4.0</td>\n",
       "      <td>32.0</td>\n",
       "    </tr>\n",
       "    <tr>\n",
       "      <th>4</th>\n",
       "      <td>neg</td>\n",
       "      <td>60874</td>\n",
       "      <td>NaN</td>\n",
       "      <td>1.368000e+03</td>\n",
       "      <td>458.0</td>\n",
       "      <td>0.0</td>\n",
       "      <td>0.0</td>\n",
       "      <td>0.0</td>\n",
       "      <td>0.0</td>\n",
       "      <td>0.0</td>\n",
       "      <td>...</td>\n",
       "      <td>622012.0</td>\n",
       "      <td>229790.0</td>\n",
       "      <td>405298.0</td>\n",
       "      <td>347188.0</td>\n",
       "      <td>286954.0</td>\n",
       "      <td>311560.0</td>\n",
       "      <td>433954.0</td>\n",
       "      <td>1218.0</td>\n",
       "      <td>0.0</td>\n",
       "      <td>0.0</td>\n",
       "    </tr>\n",
       "  </tbody>\n",
       "</table>\n",
       "<p>5 rows × 171 columns</p>\n",
       "</div>"
      ],
      "text/plain": [
       "  class  aa_000  ab_000        ac_000  ad_000  ae_000  af_000  ag_000  ag_001  \\\n",
       "0   neg   76698     NaN  2.130706e+09   280.0     0.0     0.0     0.0     0.0   \n",
       "1   neg   33058     NaN  0.000000e+00     NaN     0.0     0.0     0.0     0.0   \n",
       "2   neg   41040     NaN  2.280000e+02   100.0     0.0     0.0     0.0     0.0   \n",
       "3   neg      12     0.0  7.000000e+01    66.0     0.0    10.0     0.0     0.0   \n",
       "4   neg   60874     NaN  1.368000e+03   458.0     0.0     0.0     0.0     0.0   \n",
       "\n",
       "   ag_002   ...       ee_002    ee_003    ee_004    ee_005    ee_006  \\\n",
       "0     0.0   ...    1240520.0  493384.0  721044.0  469792.0  339156.0   \n",
       "1     0.0   ...     421400.0  178064.0  293306.0  245416.0  133654.0   \n",
       "2     0.0   ...     277378.0  159812.0  423992.0  409564.0  320746.0   \n",
       "3     0.0   ...        240.0      46.0      58.0      44.0      10.0   \n",
       "4     0.0   ...     622012.0  229790.0  405298.0  347188.0  286954.0   \n",
       "\n",
       "     ee_007    ee_008  ee_009  ef_000  eg_000  \n",
       "0  157956.0   73224.0     0.0     0.0     0.0  \n",
       "1   81140.0   97576.0  1500.0     0.0     0.0  \n",
       "2  158022.0   95128.0   514.0     0.0     0.0  \n",
       "3       0.0       0.0     0.0     4.0    32.0  \n",
       "4  311560.0  433954.0  1218.0     0.0     0.0  \n",
       "\n",
       "[5 rows x 171 columns]"
      ]
     },
     "execution_count": 2,
     "metadata": {},
     "output_type": "execute_result"
    }
   ],
   "source": [
    "local_archive = \"aps_failure_training_set.csv\"\n",
    "if not os.path.exists(local_archive):\n",
    "    print(\"Downloading contents\")\n",
    "    data_url = \"https://archive.ics.uci.edu/ml/machine-learning-databases/00421/aps_failure_training_set.csv\"\n",
    "    contents=requests.get(data_url).content\n",
    "    # First 20 rows of the file is a header with licensing info\n",
    "    # The header with column names is on row 21\n",
    "    raw_data_df=pd.read_csv(io.StringIO(contents.decode('utf-8')), skiprows=20, na_values=\"na\")\n",
    "    raw_data_df.to_csv(local_archive, index=False)\n",
    "else:\n",
    "    print(\"Loading from local\")\n",
    "    raw_data_df=pd.read_csv(local_archive, na_values=\"na\")\n",
    "    \n",
    "raw_data_df.head()"
   ]
  },
  {
   "cell_type": "code",
   "execution_count": 3,
   "metadata": {
    "collapsed": false
   },
   "outputs": [
    {
     "data": {
      "text/html": [
       "<div>\n",
       "<style scoped>\n",
       "    .dataframe tbody tr th:only-of-type {\n",
       "        vertical-align: middle;\n",
       "    }\n",
       "\n",
       "    .dataframe tbody tr th {\n",
       "        vertical-align: top;\n",
       "    }\n",
       "\n",
       "    .dataframe thead th {\n",
       "        text-align: right;\n",
       "    }\n",
       "</style>\n",
       "<table border=\"1\" class=\"dataframe\">\n",
       "  <thead>\n",
       "    <tr style=\"text-align: right;\">\n",
       "      <th></th>\n",
       "      <th>class</th>\n",
       "      <th>aa_000</th>\n",
       "      <th>bt_000</th>\n",
       "      <th>ck_000</th>\n",
       "      <th>cj_000</th>\n",
       "      <th>ci_000</th>\n",
       "      <th>by_000</th>\n",
       "      <th>aq_000</th>\n",
       "      <th>bi_000</th>\n",
       "      <th>bj_000</th>\n",
       "      <th>ao_000</th>\n",
       "    </tr>\n",
       "  </thead>\n",
       "  <tbody>\n",
       "    <tr>\n",
       "      <th>0</th>\n",
       "      <td>neg</td>\n",
       "      <td>76698</td>\n",
       "      <td>76698.08</td>\n",
       "      <td>916567.68</td>\n",
       "      <td>0.0</td>\n",
       "      <td>5245752.00</td>\n",
       "      <td>43566.0</td>\n",
       "      <td>1132040.0</td>\n",
       "      <td>947550.0</td>\n",
       "      <td>799478.0</td>\n",
       "      <td>3655166.0</td>\n",
       "    </tr>\n",
       "    <tr>\n",
       "      <th>1</th>\n",
       "      <td>neg</td>\n",
       "      <td>33058</td>\n",
       "      <td>33057.51</td>\n",
       "      <td>643536.96</td>\n",
       "      <td>0.0</td>\n",
       "      <td>2291079.36</td>\n",
       "      <td>17733.0</td>\n",
       "      <td>338544.0</td>\n",
       "      <td>688314.0</td>\n",
       "      <td>392208.0</td>\n",
       "      <td>2127150.0</td>\n",
       "    </tr>\n",
       "    <tr>\n",
       "      <th>2</th>\n",
       "      <td>neg</td>\n",
       "      <td>41040</td>\n",
       "      <td>41040.08</td>\n",
       "      <td>236099.52</td>\n",
       "      <td>0.0</td>\n",
       "      <td>2322692.16</td>\n",
       "      <td>15439.0</td>\n",
       "      <td>153698.0</td>\n",
       "      <td>160176.0</td>\n",
       "      <td>139730.0</td>\n",
       "      <td>2173634.0</td>\n",
       "    </tr>\n",
       "    <tr>\n",
       "      <th>3</th>\n",
       "      <td>neg</td>\n",
       "      <td>12</td>\n",
       "      <td>12.69</td>\n",
       "      <td>4525.44</td>\n",
       "      <td>0.0</td>\n",
       "      <td>2135.04</td>\n",
       "      <td>32.0</td>\n",
       "      <td>1014.0</td>\n",
       "      <td>7632.0</td>\n",
       "      <td>3090.0</td>\n",
       "      <td>7554.0</td>\n",
       "    </tr>\n",
       "    <tr>\n",
       "      <th>4</th>\n",
       "      <td>neg</td>\n",
       "      <td>60874</td>\n",
       "      <td>60874.03</td>\n",
       "      <td>379111.68</td>\n",
       "      <td>0.0</td>\n",
       "      <td>3565684.80</td>\n",
       "      <td>24793.0</td>\n",
       "      <td>551022.0</td>\n",
       "      <td>653692.0</td>\n",
       "      <td>399410.0</td>\n",
       "      <td>2618878.0</td>\n",
       "    </tr>\n",
       "  </tbody>\n",
       "</table>\n",
       "</div>"
      ],
      "text/plain": [
       "  class  aa_000    bt_000     ck_000  cj_000      ci_000   by_000     aq_000  \\\n",
       "0   neg   76698  76698.08  916567.68     0.0  5245752.00  43566.0  1132040.0   \n",
       "1   neg   33058  33057.51  643536.96     0.0  2291079.36  17733.0   338544.0   \n",
       "2   neg   41040  41040.08  236099.52     0.0  2322692.16  15439.0   153698.0   \n",
       "3   neg      12     12.69    4525.44     0.0     2135.04     32.0     1014.0   \n",
       "4   neg   60874  60874.03  379111.68     0.0  3565684.80  24793.0   551022.0   \n",
       "\n",
       "     bi_000    bj_000     ao_000  \n",
       "0  947550.0  799478.0  3655166.0  \n",
       "1  688314.0  392208.0  2127150.0  \n",
       "2  160176.0  139730.0  2173634.0  \n",
       "3    7632.0    3090.0     7554.0  \n",
       "4  653692.0  399410.0  2618878.0  "
      ]
     },
     "execution_count": 3,
     "metadata": {},
     "output_type": "execute_result"
    }
   ],
   "source": [
    "# This is a poc on sklearn-pipelines so drop down to 10 columns\n",
    "# Grab the 10 columns with the least number of null values and column \"class\"\n",
    "data_df = raw_data_df[raw_data_df.isnull().sum().sort_values()[:11].index].dropna()\n",
    "data_df.head()"
   ]
  },
  {
   "cell_type": "code",
   "execution_count": 4,
   "metadata": {
    "collapsed": false
   },
   "outputs": [
    {
     "name": "stdout",
     "output_type": "stream",
     "text": [
      "Count of rows: 58888\n",
      "Count of rows with class 'neg': 57932\n",
      "Count of rows with class 'pos': 956\n"
     ]
    }
   ],
   "source": [
    "print(\"Count of rows: {}\".format(data_df.shape[0]))\n",
    "print(\"Count of rows with class 'neg': {}\".format(data_df[data_df['class'] == 'neg']['class'].shape[0]))\n",
    "print(\"Count of rows with class 'pos': {}\".format(data_df[data_df['class'] == 'pos']['class'].shape[0]))"
   ]
  },
  {
   "cell_type": "code",
   "execution_count": 5,
   "metadata": {
    "collapsed": false
   },
   "outputs": [
    {
     "data": {
      "text/html": [
       "<div>\n",
       "<style scoped>\n",
       "    .dataframe tbody tr th:only-of-type {\n",
       "        vertical-align: middle;\n",
       "    }\n",
       "\n",
       "    .dataframe tbody tr th {\n",
       "        vertical-align: top;\n",
       "    }\n",
       "\n",
       "    .dataframe thead th {\n",
       "        text-align: right;\n",
       "    }\n",
       "</style>\n",
       "<table border=\"1\" class=\"dataframe\">\n",
       "  <thead>\n",
       "    <tr style=\"text-align: right;\">\n",
       "      <th></th>\n",
       "      <th>aa_000</th>\n",
       "      <th>bt_000</th>\n",
       "      <th>ck_000</th>\n",
       "      <th>cj_000</th>\n",
       "      <th>ci_000</th>\n",
       "      <th>by_000</th>\n",
       "      <th>aq_000</th>\n",
       "      <th>bi_000</th>\n",
       "      <th>bj_000</th>\n",
       "      <th>ao_000</th>\n",
       "    </tr>\n",
       "  </thead>\n",
       "  <tbody>\n",
       "    <tr>\n",
       "      <th>count</th>\n",
       "      <td>5.888800e+04</td>\n",
       "      <td>5.888800e+04</td>\n",
       "      <td>5.888800e+04</td>\n",
       "      <td>5.888800e+04</td>\n",
       "      <td>5.888800e+04</td>\n",
       "      <td>5.888800e+04</td>\n",
       "      <td>5.888800e+04</td>\n",
       "      <td>5.888800e+04</td>\n",
       "      <td>5.888800e+04</td>\n",
       "      <td>5.888800e+04</td>\n",
       "    </tr>\n",
       "    <tr>\n",
       "      <th>mean</th>\n",
       "      <td>5.942603e+04</td>\n",
       "      <td>5.942603e+04</td>\n",
       "      <td>7.128344e+05</td>\n",
       "      <td>9.993976e+04</td>\n",
       "      <td>3.484558e+06</td>\n",
       "      <td>2.201318e+04</td>\n",
       "      <td>4.441264e+05</td>\n",
       "      <td>4.943652e+05</td>\n",
       "      <td>5.123684e+05</td>\n",
       "      <td>3.012701e+06</td>\n",
       "    </tr>\n",
       "    <tr>\n",
       "      <th>std</th>\n",
       "      <td>1.452684e+05</td>\n",
       "      <td>1.452684e+05</td>\n",
       "      <td>2.164271e+06</td>\n",
       "      <td>1.090789e+06</td>\n",
       "      <td>8.345773e+06</td>\n",
       "      <td>5.382452e+04</td>\n",
       "      <td>1.264976e+06</td>\n",
       "      <td>1.489898e+06</td>\n",
       "      <td>1.826194e+06</td>\n",
       "      <td>6.830351e+06</td>\n",
       "    </tr>\n",
       "    <tr>\n",
       "      <th>min</th>\n",
       "      <td>0.000000e+00</td>\n",
       "      <td>0.000000e+00</td>\n",
       "      <td>0.000000e+00</td>\n",
       "      <td>0.000000e+00</td>\n",
       "      <td>0.000000e+00</td>\n",
       "      <td>0.000000e+00</td>\n",
       "      <td>0.000000e+00</td>\n",
       "      <td>0.000000e+00</td>\n",
       "      <td>0.000000e+00</td>\n",
       "      <td>0.000000e+00</td>\n",
       "    </tr>\n",
       "    <tr>\n",
       "      <th>25%</th>\n",
       "      <td>8.760000e+02</td>\n",
       "      <td>8.751775e+02</td>\n",
       "      <td>1.470456e+04</td>\n",
       "      <td>0.000000e+00</td>\n",
       "      <td>4.921608e+04</td>\n",
       "      <td>2.190000e+02</td>\n",
       "      <td>4.167500e+03</td>\n",
       "      <td>1.596950e+04</td>\n",
       "      <td>8.519500e+03</td>\n",
       "      <td>6.570800e+04</td>\n",
       "    </tr>\n",
       "    <tr>\n",
       "      <th>50%</th>\n",
       "      <td>3.095200e+04</td>\n",
       "      <td>3.095214e+04</td>\n",
       "      <td>2.524493e+05</td>\n",
       "      <td>0.000000e+00</td>\n",
       "      <td>1.869525e+06</td>\n",
       "      <td>1.271800e+04</td>\n",
       "      <td>1.800570e+05</td>\n",
       "      <td>1.806820e+05</td>\n",
       "      <td>1.551150e+05</td>\n",
       "      <td>1.649212e+06</td>\n",
       "    </tr>\n",
       "    <tr>\n",
       "      <th>75%</th>\n",
       "      <td>4.889850e+04</td>\n",
       "      <td>4.889776e+04</td>\n",
       "      <td>5.514674e+05</td>\n",
       "      <td>0.000000e+00</td>\n",
       "      <td>2.956215e+06</td>\n",
       "      <td>2.041100e+04</td>\n",
       "      <td>3.785925e+05</td>\n",
       "      <td>3.812195e+05</td>\n",
       "      <td>3.349440e+05</td>\n",
       "      <td>2.686392e+06</td>\n",
       "    </tr>\n",
       "    <tr>\n",
       "      <th>max</th>\n",
       "      <td>2.746564e+06</td>\n",
       "      <td>2.746565e+06</td>\n",
       "      <td>5.542867e+07</td>\n",
       "      <td>6.094967e+07</td>\n",
       "      <td>1.409861e+08</td>\n",
       "      <td>1.002003e+06</td>\n",
       "      <td>2.556265e+07</td>\n",
       "      <td>4.493750e+07</td>\n",
       "      <td>4.573632e+07</td>\n",
       "      <td>1.222018e+08</td>\n",
       "    </tr>\n",
       "  </tbody>\n",
       "</table>\n",
       "</div>"
      ],
      "text/plain": [
       "             aa_000        bt_000        ck_000        cj_000        ci_000  \\\n",
       "count  5.888800e+04  5.888800e+04  5.888800e+04  5.888800e+04  5.888800e+04   \n",
       "mean   5.942603e+04  5.942603e+04  7.128344e+05  9.993976e+04  3.484558e+06   \n",
       "std    1.452684e+05  1.452684e+05  2.164271e+06  1.090789e+06  8.345773e+06   \n",
       "min    0.000000e+00  0.000000e+00  0.000000e+00  0.000000e+00  0.000000e+00   \n",
       "25%    8.760000e+02  8.751775e+02  1.470456e+04  0.000000e+00  4.921608e+04   \n",
       "50%    3.095200e+04  3.095214e+04  2.524493e+05  0.000000e+00  1.869525e+06   \n",
       "75%    4.889850e+04  4.889776e+04  5.514674e+05  0.000000e+00  2.956215e+06   \n",
       "max    2.746564e+06  2.746565e+06  5.542867e+07  6.094967e+07  1.409861e+08   \n",
       "\n",
       "             by_000        aq_000        bi_000        bj_000        ao_000  \n",
       "count  5.888800e+04  5.888800e+04  5.888800e+04  5.888800e+04  5.888800e+04  \n",
       "mean   2.201318e+04  4.441264e+05  4.943652e+05  5.123684e+05  3.012701e+06  \n",
       "std    5.382452e+04  1.264976e+06  1.489898e+06  1.826194e+06  6.830351e+06  \n",
       "min    0.000000e+00  0.000000e+00  0.000000e+00  0.000000e+00  0.000000e+00  \n",
       "25%    2.190000e+02  4.167500e+03  1.596950e+04  8.519500e+03  6.570800e+04  \n",
       "50%    1.271800e+04  1.800570e+05  1.806820e+05  1.551150e+05  1.649212e+06  \n",
       "75%    2.041100e+04  3.785925e+05  3.812195e+05  3.349440e+05  2.686392e+06  \n",
       "max    1.002003e+06  2.556265e+07  4.493750e+07  4.573632e+07  1.222018e+08  "
      ]
     },
     "metadata": {},
     "output_type": "display_data"
    },
    {
     "data": {
      "text/plain": [
       "neg    57932\n",
       "pos      956\n",
       "Name: class, dtype: int64"
      ]
     },
     "metadata": {},
     "output_type": "display_data"
    }
   ],
   "source": [
    "# Describe all the columns at once\n",
    "display(pd.concat([data_df[col].describe().to_frame(name=col) for col in data_df.columns if col != 'class'], axis=1))\n",
    "display(data_df['class'].value_counts())"
   ]
  },
  {
   "cell_type": "markdown",
   "metadata": {
    "collapsed": true
   },
   "source": [
    "## Pipeline POC work"
   ]
  },
  {
   "cell_type": "code",
   "execution_count": 6,
   "metadata": {
    "collapsed": true
   },
   "outputs": [],
   "source": [
    "train_df = data_df.drop(labels=['class'], axis=1)\n",
    "labels_srs = data_df['class']"
   ]
  },
  {
   "cell_type": "markdown",
   "metadata": {},
   "source": [
    "### Basic scaling"
   ]
  },
  {
   "cell_type": "code",
   "execution_count": 7,
   "metadata": {
    "collapsed": false
   },
   "outputs": [],
   "source": [
    "from sklearn.preprocessing import StandardScaler\n",
    "from sklearn.feature_selection import SelectKBest, chi2\n",
    "from sklearn.pipeline import Pipeline\n",
    "from sklearn import svm\n",
    "scaling = StandardScaler()\n",
    "svm_model = svm.SVC(kernel='linear')\n",
    "chi_f_selection = SelectKBest(score_func=chi2, k=8)\n",
    "pipeline_model = Pipeline([\n",
    "        ('chi_selection', chi_f_selection),\n",
    "        ('scaling', scaling),\n",
    "        ('svc', svm_model)])\n",
    "fit_model = pipeline_model.fit(train_df, labels_srs)"
   ]
  },
  {
   "cell_type": "code",
   "execution_count": 8,
   "metadata": {
    "collapsed": false
   },
   "outputs": [
    {
     "name": "stdout",
     "output_type": "stream",
     "text": [
      "score: 0.9852601548702622\n",
      "Sample of Predictions:\n",
      "['neg' 'neg' 'neg' 'neg' 'neg' 'neg' 'neg' 'neg' 'neg' 'neg' 'neg' 'neg'\n",
      " 'neg' 'neg' 'neg' 'neg' 'neg' 'neg' 'neg' 'neg' 'neg' 'neg' 'neg' 'neg'\n",
      " 'neg' 'neg' 'neg' 'neg' 'neg' 'neg' 'neg' 'neg' 'neg' 'neg' 'neg' 'neg'\n",
      " 'neg' 'neg' 'neg' 'neg' 'neg' 'neg' 'neg' 'neg' 'neg' 'neg' 'neg' 'neg'\n",
      " 'neg' 'neg']\n"
     ]
    }
   ],
   "source": [
    "# Now try it out\n",
    "print(\"score: {}\".format(fit_model.score(train_df, y=labels_srs)))\n",
    "print(\"Sample of Predictions:\\n{}\".format(fit_model.predict(train_df.sample(n=50))))"
   ]
  },
  {
   "cell_type": "markdown",
   "metadata": {},
   "source": [
    "### Grid Search over Pipeline paramaters\n",
    "1. Feature selection functions and parameters"
   ]
  },
  {
   "cell_type": "code",
   "execution_count": 27,
   "metadata": {
    "collapsed": false
   },
   "outputs": [],
   "source": [
    "from sklearn.feature_selection import SelectKBest, chi2, f_classif, f_regression\n",
    "from sklearn.model_selection import GridSearchCV\n",
    "\n",
    "scaling = StandardScaler()\n",
    "svm_model = svm.SVC(kernel='linear')\n",
    "chi_f_selection = SelectKBest(score_func=chi2, k=8)\n",
    "pipeline_model = Pipeline([\n",
    "        ('chi_selection', chi_f_selection),\n",
    "        ('scaling', scaling),\n",
    "        ('svc', svm_model)])\n",
    "\n",
    "# Commented a few options out in the interest of POC and time\n",
    "param_grid = [\n",
    "    {\n",
    "        'chi_selection__score_func': [chi2], #, f_regression, f_classif],\n",
    "        'scaling__with_mean': [True],#, False],\n",
    "        'scaling__with_std': [True],#, False],\n",
    "        'svc__C': [0.5]#, 1, 5, 10]\n",
    "    }\n",
    "]\n",
    "\n",
    "grid = GridSearchCV(pipeline_model, cv=3, n_jobs=3, param_grid=param_grid)\n",
    "grid_fit_model = grid.fit(train_df, labels_srs)"
   ]
  },
  {
   "cell_type": "code",
   "execution_count": 28,
   "metadata": {
    "collapsed": false
   },
   "outputs": [
    {
     "name": "stdout",
     "output_type": "stream",
     "text": [
      "score: 0.9852601548702622\n",
      "Sample of Predictions:\n",
      "['neg' 'neg' 'neg' 'neg' 'neg' 'neg' 'neg' 'neg' 'neg' 'neg' 'neg' 'neg'\n",
      " 'neg' 'neg' 'neg' 'neg' 'neg' 'neg' 'neg' 'neg' 'neg' 'neg' 'neg' 'neg'\n",
      " 'neg' 'neg' 'neg' 'neg' 'neg' 'neg' 'neg' 'neg' 'neg' 'neg' 'neg' 'neg'\n",
      " 'neg' 'neg' 'neg' 'neg' 'neg' 'neg' 'neg' 'neg' 'neg' 'neg' 'neg' 'neg'\n",
      " 'neg' 'neg']\n"
     ]
    }
   ],
   "source": [
    "# Now try it out\n",
    "print(\"score: {}\".format(grid_fit_model.score(train_df, y=labels_srs)))\n",
    "print(\"Sample of Predictions:\\n{}\".format(grid_fit_model.predict(train_df.sample(n=50))))"
   ]
  },
  {
   "cell_type": "code",
   "execution_count": 29,
   "metadata": {
    "collapsed": false
   },
   "outputs": [
    {
     "name": "stdout",
     "output_type": "stream",
     "text": [
      "Best Parameters\n"
     ]
    },
    {
     "data": {
      "text/plain": [
       "{'chi_selection__score_func': <function sklearn.feature_selection.univariate_selection.chi2>,\n",
       " 'scaling__with_mean': True,\n",
       " 'scaling__with_std': True,\n",
       " 'svc__C': 0.5}"
      ]
     },
     "execution_count": 29,
     "metadata": {},
     "output_type": "execute_result"
    }
   ],
   "source": [
    "print(\"Best Parameters\")\n",
    "grid_fit_model.best_params_"
   ]
  },
  {
   "cell_type": "markdown",
   "metadata": {},
   "source": [
    "### Cross Validation score prediction"
   ]
  },
  {
   "cell_type": "code",
   "execution_count": 31,
   "metadata": {
    "collapsed": false
   },
   "outputs": [
    {
     "data": {
      "text/plain": [
       "array([0.98517575, 0.98507387, 0.98537803])"
      ]
     },
     "execution_count": 31,
     "metadata": {},
     "output_type": "execute_result"
    }
   ],
   "source": [
    "from sklearn.model_selection import cross_val_score\n",
    "cross_val_score(grid_fit_model, train_df, labels_srs, cv=3)"
   ]
  },
  {
   "cell_type": "markdown",
   "metadata": {},
   "source": [
    "## Bootstrapping"
   ]
  },
  {
   "cell_type": "code",
   "execution_count": 39,
   "metadata": {
    "collapsed": false
   },
   "outputs": [
    {
     "name": "stdout",
     "output_type": "stream",
     "text": [
      "score: 1.0\n",
      "Sample of Predictions:\n",
      "['neg' 'neg' 'neg' 'neg' 'neg' 'neg' 'neg' 'neg' 'neg' 'neg' 'neg' 'neg'\n",
      " 'neg' 'neg' 'neg' 'neg' 'neg' 'neg' 'neg' 'neg' 'neg' 'neg' 'neg' 'neg'\n",
      " 'neg' 'neg' 'neg' 'neg' 'neg' 'neg' 'neg' 'neg' 'neg' 'neg' 'neg' 'neg'\n",
      " 'neg' 'neg' 'neg' 'neg' 'neg' 'neg' 'neg' 'neg' 'neg' 'neg' 'neg' 'neg'\n",
      " 'neg' 'neg']\n",
      "Best Parameters\n"
     ]
    },
    {
     "data": {
      "text/plain": [
       "{'boost__base_estimator': DecisionTreeClassifier(class_weight=None, criterion='gini', max_depth=5,\n",
       "             max_features=None, max_leaf_nodes=None,\n",
       "             min_impurity_decrease=0.0, min_impurity_split=None,\n",
       "             min_samples_leaf=3, min_samples_split=2,\n",
       "             min_weight_fraction_leaf=0.0, presort=False, random_state=None,\n",
       "             splitter='best'),\n",
       " 'boost__n_estimators': 200,\n",
       " 'chi_selection__score_func': <function sklearn.feature_selection.univariate_selection.chi2>,\n",
       " 'scaling__with_mean': True,\n",
       " 'scaling__with_std': True}"
      ]
     },
     "execution_count": 39,
     "metadata": {},
     "output_type": "execute_result"
    }
   ],
   "source": [
    "from sklearn.ensemble import AdaBoostClassifier\n",
    "from sklearn.tree import DecisionTreeClassifier\n",
    "\n",
    "scaling = StandardScaler()\n",
    "dtc_model = DecisionTreeClassifier()\n",
    "ab_dtc_model = AdaBoostClassifier(dtc_model)\n",
    "chi_f_selection = SelectKBest(score_func=chi2, k=8)\n",
    "pipeline_model = Pipeline([\n",
    "        ('chi_selection', chi_f_selection),\n",
    "        ('scaling', scaling),\n",
    "        ('boost', ab_dtc_model)])\n",
    "\n",
    "# Commented a few options out in the interest of POC and time\n",
    "param_grid = [\n",
    "    {\n",
    "        'chi_selection__score_func': [chi2], #, f_regression, f_classif],\n",
    "        'scaling__with_mean': [True],#, False],\n",
    "        'scaling__with_std': [True],#, False],\n",
    "        'boost__n_estimators': [10, 50, 200],\n",
    "        'boost__base_estimator': [DecisionTreeClassifier(max_depth=1, min_samples_leaf=1),\n",
    "                                  DecisionTreeClassifier(max_depth=5, min_samples_leaf=3)]\n",
    "    }\n",
    "]\n",
    "\n",
    "grid = GridSearchCV(pipeline_model, cv=3, n_jobs=6, param_grid=param_grid)\n",
    "grid_fit_model = grid.fit(train_df, labels_srs)\n",
    "\n",
    "# Now try it out\n",
    "print(\"score: {}\".format(grid_fit_model.score(train_df, y=labels_srs)))\n",
    "print(\"Sample of Predictions:\\n{}\".format(grid_fit_model.predict(train_df.sample(n=50))))\n",
    "\n",
    "print(\"Best Parameters\")\n",
    "grid_fit_model.best_params_"
   ]
  },
  {
   "cell_type": "markdown",
   "metadata": {},
   "source": [
    "## Model Selection"
   ]
  },
  {
   "cell_type": "code",
   "execution_count": 46,
   "metadata": {
    "collapsed": false
   },
   "outputs": [
    {
     "name": "stdout",
     "output_type": "stream",
     "text": [
      "forest: score=0.9868564053797039\n",
      "svc: score=0.9852261920934655\n",
      "boost: score=0.9847337318299144\n",
      "knn3: score=0.9925281891047412\n",
      "tree: score=0.9874337725852466\n"
     ]
    }
   ],
   "source": [
    "from sklearn.neighbors import KNeighborsClassifier\n",
    "from sklearn.svm import SVC\n",
    "from sklearn.tree import DecisionTreeClassifier\n",
    "from sklearn.ensemble import RandomForestClassifier, AdaBoostClassifier\n",
    "\n",
    "classifiers = dict(\n",
    "    knn3=KNeighborsClassifier(3),\n",
    "    svc=SVC(kernel=\"linear\", C=0.025),\n",
    "    tree=DecisionTreeClassifier(max_depth=5),\n",
    "    forest=RandomForestClassifier(max_depth=5, n_estimators=10, max_features=1),\n",
    "    boost=AdaBoostClassifier()\n",
    ")\n",
    "\n",
    "from sklearn.preprocessing import StandardScaler\n",
    "from sklearn.feature_selection import SelectKBest, chi2\n",
    "from sklearn.pipeline import Pipeline\n",
    "from sklearn import svm\n",
    "scaling = StandardScaler()\n",
    "svm_model = svm.SVC(kernel='linear')\n",
    "chi_f_selection = SelectKBest(score_func=chi2, k=8)\n",
    "\n",
    "def get_score(name, model):\n",
    "    pipeline_model = Pipeline([\n",
    "            ('chi_selection', chi_f_selection),\n",
    "            ('scaling', scaling),\n",
    "            (name, model)])\n",
    "    fit_model = pipeline_model.fit(train_df, labels_srs)\n",
    "    score = fit_model.score(train_df, y=labels_srs)\n",
    "    return score\n",
    "\n",
    "results = {name: get_score(name, model) for name, model in classifiers.items()}\n",
    "\n",
    "for name, score in results.items():\n",
    "    print(\"{name}: score={score}\".format(name=name, score=score))"
   ]
  }
 ],
 "metadata": {
  "kernelspec": {
   "display_name": "pipeline-poc",
   "language": "python",
   "name": "pipeline-poc"
  },
  "language_info": {
   "codemirror_mode": {
    "name": "ipython",
    "version": 3
   },
   "file_extension": ".py",
   "mimetype": "text/x-python",
   "name": "python",
   "nbconvert_exporter": "python",
   "pygments_lexer": "ipython3",
   "version": "3.5.2"
  }
 },
 "nbformat": 4,
 "nbformat_minor": 2
}
